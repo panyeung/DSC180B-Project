{
 "cells": [
  {
   "cell_type": "code",
   "execution_count": 1,
   "metadata": {
    "scrolled": true
   },
   "outputs": [
    {
     "data": {
      "text/plain": [
       "['batt_info.csv000',\n",
       " 'devuse_4known_device.csv000',\n",
       " 'mousewait.csv000.gz',\n",
       " 'system_sysinfo_unique_normalized.csv000.gz',\n",
       " 'plist_process_resource_util_hist.csv003.gz',\n",
       " 'plist_process_resource_util_hist.csv002.gz',\n",
       " 'plist_process_resource_util_hist.csv001.gz',\n",
       " 'batt_acdc_events.csv000',\n",
       " 'devuse_4known_device.csv001',\n",
       " 'frgnd_v2.csv000',\n",
       " 'frgnd_backgrnd_apps.csv000',\n",
       " 'plist_process_resource_util_13wks.csv000.gz',\n",
       " 'hw_metric_histo.csv001.gz',\n",
       " 'hw_metric_histo.csv000.gz',\n",
       " 'plist_process_resource_util_13wks.csv001.gz']"
      ]
     },
     "execution_count": 1,
     "metadata": {},
     "output_type": "execute_result"
    }
   ],
   "source": [
    "from os import listdir\n",
    "from os.path import isfile, join\n",
    "mypath = './dataset'\n",
    "onlyfiles = [f for f in listdir(mypath) if isfile(join(mypath, f))]\n",
    "onlyfiles"
   ]
  },
  {
   "cell_type": "code",
   "execution_count": 2,
   "metadata": {},
   "outputs": [
    {
     "data": {
      "text/plain": [
       "('batt_info.csv000.gz',)"
      ]
     },
     "execution_count": 2,
     "metadata": {},
     "output_type": "execute_result"
    }
   ],
   "source": [
    "'frgnd_backgrnd_apps.csv000.gz',\n",
    "'devuse_4known_device.csv000.gz',\n",
    "'devuse_4known_device.csv001.gz',\n",
    "'batt_acdc_events.csv000.gz',\n",
    "'batt_info.csv000.gz',"
   ]
  },
  {
   "cell_type": "markdown",
   "metadata": {},
   "source": [
    "# EDA"
   ]
  },
  {
   "cell_type": "markdown",
   "metadata": {},
   "source": [
    "## Loading data into DataFrames"
   ]
  },
  {
   "cell_type": "code",
   "execution_count": 3,
   "metadata": {},
   "outputs": [],
   "source": [
    "import dask.dataframe as dd\n",
    "from dask.diagnostics import ProgressBar \n",
    "from matplotlib import pyplot as plt\n",
    "from dask.delayed import delayed\n",
    "\n",
    "import pandas as pd\n",
    "import os\n",
    "\n",
    "\n",
    "list_of_fp=['frgnd_backgrnd_apps.csv000.gz',\n",
    "'devuse_4known_device.csv000.gz',\n",
    "'devuse_4known_device.csv001.gz',\n",
    "'batt_acdc_events.csv000.gz',\n",
    "'batt_info.csv000.gz']\n",
    "\n",
    "\n",
    "#dfs = [delayed(pd.read_csv)(mypath+\"/\"+fn) for fn in list_of_fp]\n",
    "\n",
    "#df = dd.from_delayed(dfs)\n",
    "\n",
    "fp=mypath+\"/\"+'frgnd_backgrnd_apps.csv000'\n",
    "fp2 = mypath+\"/\"+'devuse_4known_device.csv000'\n",
    "fp3 = mypath+\"/\"+'devuse_4known_device.csv001'\n",
    "fp4 = mypath+\"/\"+'batt_acdc_events.csv000'\n",
    "fp5 = mypath+\"/\"+'batt_info.csv000'\n",
    "\n",
    "frgnd_backgrnd_apps = dd.read_csv(fp,sep='\u0001')\n",
    "devuse1 = dd.read_csv(fp2,sep='\\t',error_bad_lines=False)\n",
    "devuse2 = dd.read_csv(fp3,sep='\\t',error_bad_lines=False,dtype={'duration': 'float64'})\n",
    "batt_acdc = dd.read_csv(fp4,sep='\\1')\n",
    "batt_info = dd.read_csv(fp5,sep='\\1',dtype={'designed_capacity': 'float64',\n",
    "       'full_charge_capacity': 'float64'})\n",
    "\n"
   ]
  },
  {
   "cell_type": "code",
   "execution_count": 4,
   "metadata": {},
   "outputs": [
    {
     "data": {
      "text/html": [
       "<div><strong>Dask DataFrame Structure:</strong></div>\n",
       "<div>\n",
       "<style scoped>\n",
       "    .dataframe tbody tr th:only-of-type {\n",
       "        vertical-align: middle;\n",
       "    }\n",
       "\n",
       "    .dataframe tbody tr th {\n",
       "        vertical-align: top;\n",
       "    }\n",
       "\n",
       "    .dataframe thead th {\n",
       "        text-align: right;\n",
       "    }\n",
       "</style>\n",
       "<table border=\"1\" class=\"dataframe\">\n",
       "  <thead>\n",
       "    <tr style=\"text-align: right;\">\n",
       "      <th></th>\n",
       "      <th>load_ts</th>\n",
       "      <th>batch_id</th>\n",
       "      <th>audit_zip</th>\n",
       "      <th>audit_internal_path</th>\n",
       "      <th>guid</th>\n",
       "      <th>interval_start_utc</th>\n",
       "      <th>interval_end_utc</th>\n",
       "      <th>interval_local_start</th>\n",
       "      <th>interval_local_end</th>\n",
       "      <th>ts</th>\n",
       "      <th>dt</th>\n",
       "      <th>battery_enum</th>\n",
       "      <th>chemistry</th>\n",
       "      <th>designed_capacity</th>\n",
       "      <th>full_charge_capacity</th>\n",
       "      <th>battery_count</th>\n",
       "    </tr>\n",
       "    <tr>\n",
       "      <th>npartitions=86</th>\n",
       "      <th></th>\n",
       "      <th></th>\n",
       "      <th></th>\n",
       "      <th></th>\n",
       "      <th></th>\n",
       "      <th></th>\n",
       "      <th></th>\n",
       "      <th></th>\n",
       "      <th></th>\n",
       "      <th></th>\n",
       "      <th></th>\n",
       "      <th></th>\n",
       "      <th></th>\n",
       "      <th></th>\n",
       "      <th></th>\n",
       "      <th></th>\n",
       "    </tr>\n",
       "  </thead>\n",
       "  <tbody>\n",
       "    <tr>\n",
       "      <th></th>\n",
       "      <td>object</td>\n",
       "      <td>object</td>\n",
       "      <td>object</td>\n",
       "      <td>object</td>\n",
       "      <td>object</td>\n",
       "      <td>object</td>\n",
       "      <td>object</td>\n",
       "      <td>object</td>\n",
       "      <td>object</td>\n",
       "      <td>object</td>\n",
       "      <td>object</td>\n",
       "      <td>int64</td>\n",
       "      <td>object</td>\n",
       "      <td>float64</td>\n",
       "      <td>float64</td>\n",
       "      <td>int64</td>\n",
       "    </tr>\n",
       "    <tr>\n",
       "      <th></th>\n",
       "      <td>...</td>\n",
       "      <td>...</td>\n",
       "      <td>...</td>\n",
       "      <td>...</td>\n",
       "      <td>...</td>\n",
       "      <td>...</td>\n",
       "      <td>...</td>\n",
       "      <td>...</td>\n",
       "      <td>...</td>\n",
       "      <td>...</td>\n",
       "      <td>...</td>\n",
       "      <td>...</td>\n",
       "      <td>...</td>\n",
       "      <td>...</td>\n",
       "      <td>...</td>\n",
       "      <td>...</td>\n",
       "    </tr>\n",
       "    <tr>\n",
       "      <th>...</th>\n",
       "      <td>...</td>\n",
       "      <td>...</td>\n",
       "      <td>...</td>\n",
       "      <td>...</td>\n",
       "      <td>...</td>\n",
       "      <td>...</td>\n",
       "      <td>...</td>\n",
       "      <td>...</td>\n",
       "      <td>...</td>\n",
       "      <td>...</td>\n",
       "      <td>...</td>\n",
       "      <td>...</td>\n",
       "      <td>...</td>\n",
       "      <td>...</td>\n",
       "      <td>...</td>\n",
       "      <td>...</td>\n",
       "    </tr>\n",
       "    <tr>\n",
       "      <th></th>\n",
       "      <td>...</td>\n",
       "      <td>...</td>\n",
       "      <td>...</td>\n",
       "      <td>...</td>\n",
       "      <td>...</td>\n",
       "      <td>...</td>\n",
       "      <td>...</td>\n",
       "      <td>...</td>\n",
       "      <td>...</td>\n",
       "      <td>...</td>\n",
       "      <td>...</td>\n",
       "      <td>...</td>\n",
       "      <td>...</td>\n",
       "      <td>...</td>\n",
       "      <td>...</td>\n",
       "      <td>...</td>\n",
       "    </tr>\n",
       "    <tr>\n",
       "      <th></th>\n",
       "      <td>...</td>\n",
       "      <td>...</td>\n",
       "      <td>...</td>\n",
       "      <td>...</td>\n",
       "      <td>...</td>\n",
       "      <td>...</td>\n",
       "      <td>...</td>\n",
       "      <td>...</td>\n",
       "      <td>...</td>\n",
       "      <td>...</td>\n",
       "      <td>...</td>\n",
       "      <td>...</td>\n",
       "      <td>...</td>\n",
       "      <td>...</td>\n",
       "      <td>...</td>\n",
       "      <td>...</td>\n",
       "    </tr>\n",
       "  </tbody>\n",
       "</table>\n",
       "</div>\n",
       "<div>Dask Name: from-delayed, 258 tasks</div>"
      ],
      "text/plain": [
       "Dask DataFrame Structure:\n",
       "               load_ts batch_id audit_zip audit_internal_path    guid interval_start_utc interval_end_utc interval_local_start interval_local_end      ts      dt battery_enum chemistry designed_capacity full_charge_capacity battery_count\n",
       "npartitions=86                                                                                                                                                                                                                               \n",
       "                object   object    object              object  object             object           object               object             object  object  object        int64    object           float64              float64         int64\n",
       "                   ...      ...       ...                 ...     ...                ...              ...                  ...                ...     ...     ...          ...       ...               ...                  ...           ...\n",
       "...                ...      ...       ...                 ...     ...                ...              ...                  ...                ...     ...     ...          ...       ...               ...                  ...           ...\n",
       "                   ...      ...       ...                 ...     ...                ...              ...                  ...                ...     ...     ...          ...       ...               ...                  ...           ...\n",
       "                   ...      ...       ...                 ...     ...                ...              ...                  ...                ...     ...     ...          ...       ...               ...                  ...           ...\n",
       "Dask Name: from-delayed, 258 tasks"
      ]
     },
     "execution_count": 4,
     "metadata": {},
     "output_type": "execute_result"
    }
   ],
   "source": [
    "batt_info"
   ]
  },
  {
   "cell_type": "code",
   "execution_count": 5,
   "metadata": {},
   "outputs": [
    {
     "data": {
      "text/html": [
       "<div><strong>Dask DataFrame Structure:</strong></div>\n",
       "<div>\n",
       "<style scoped>\n",
       "    .dataframe tbody tr th:only-of-type {\n",
       "        vertical-align: middle;\n",
       "    }\n",
       "\n",
       "    .dataframe tbody tr th {\n",
       "        vertical-align: top;\n",
       "    }\n",
       "\n",
       "    .dataframe thead th {\n",
       "        text-align: right;\n",
       "    }\n",
       "</style>\n",
       "<table border=\"1\" class=\"dataframe\">\n",
       "  <thead>\n",
       "    <tr style=\"text-align: right;\">\n",
       "      <th></th>\n",
       "      <th>load_ts</th>\n",
       "      <th>batch_id</th>\n",
       "      <th>audit_zip</th>\n",
       "      <th>audit_internal_path</th>\n",
       "      <th>guid</th>\n",
       "      <th>interval_start_utc</th>\n",
       "      <th>interval_end_utc</th>\n",
       "      <th>interval_local_start</th>\n",
       "      <th>interval_local_end</th>\n",
       "      <th>ts</th>\n",
       "      <th>dt</th>\n",
       "      <th>system_power_state</th>\n",
       "      <th>event_type</th>\n",
       "      <th>duration</th>\n",
       "      <th>battery_percent_remaining</th>\n",
       "      <th>battery_minutes_remaining</th>\n",
       "    </tr>\n",
       "    <tr>\n",
       "      <th>npartitions=536</th>\n",
       "      <th></th>\n",
       "      <th></th>\n",
       "      <th></th>\n",
       "      <th></th>\n",
       "      <th></th>\n",
       "      <th></th>\n",
       "      <th></th>\n",
       "      <th></th>\n",
       "      <th></th>\n",
       "      <th></th>\n",
       "      <th></th>\n",
       "      <th></th>\n",
       "      <th></th>\n",
       "      <th></th>\n",
       "      <th></th>\n",
       "      <th></th>\n",
       "    </tr>\n",
       "  </thead>\n",
       "  <tbody>\n",
       "    <tr>\n",
       "      <th></th>\n",
       "      <td>object</td>\n",
       "      <td>object</td>\n",
       "      <td>object</td>\n",
       "      <td>object</td>\n",
       "      <td>object</td>\n",
       "      <td>object</td>\n",
       "      <td>object</td>\n",
       "      <td>object</td>\n",
       "      <td>object</td>\n",
       "      <td>object</td>\n",
       "      <td>object</td>\n",
       "      <td>object</td>\n",
       "      <td>object</td>\n",
       "      <td>float64</td>\n",
       "      <td>int64</td>\n",
       "      <td>float64</td>\n",
       "    </tr>\n",
       "    <tr>\n",
       "      <th></th>\n",
       "      <td>...</td>\n",
       "      <td>...</td>\n",
       "      <td>...</td>\n",
       "      <td>...</td>\n",
       "      <td>...</td>\n",
       "      <td>...</td>\n",
       "      <td>...</td>\n",
       "      <td>...</td>\n",
       "      <td>...</td>\n",
       "      <td>...</td>\n",
       "      <td>...</td>\n",
       "      <td>...</td>\n",
       "      <td>...</td>\n",
       "      <td>...</td>\n",
       "      <td>...</td>\n",
       "      <td>...</td>\n",
       "    </tr>\n",
       "    <tr>\n",
       "      <th>...</th>\n",
       "      <td>...</td>\n",
       "      <td>...</td>\n",
       "      <td>...</td>\n",
       "      <td>...</td>\n",
       "      <td>...</td>\n",
       "      <td>...</td>\n",
       "      <td>...</td>\n",
       "      <td>...</td>\n",
       "      <td>...</td>\n",
       "      <td>...</td>\n",
       "      <td>...</td>\n",
       "      <td>...</td>\n",
       "      <td>...</td>\n",
       "      <td>...</td>\n",
       "      <td>...</td>\n",
       "      <td>...</td>\n",
       "    </tr>\n",
       "    <tr>\n",
       "      <th></th>\n",
       "      <td>...</td>\n",
       "      <td>...</td>\n",
       "      <td>...</td>\n",
       "      <td>...</td>\n",
       "      <td>...</td>\n",
       "      <td>...</td>\n",
       "      <td>...</td>\n",
       "      <td>...</td>\n",
       "      <td>...</td>\n",
       "      <td>...</td>\n",
       "      <td>...</td>\n",
       "      <td>...</td>\n",
       "      <td>...</td>\n",
       "      <td>...</td>\n",
       "      <td>...</td>\n",
       "      <td>...</td>\n",
       "    </tr>\n",
       "    <tr>\n",
       "      <th></th>\n",
       "      <td>...</td>\n",
       "      <td>...</td>\n",
       "      <td>...</td>\n",
       "      <td>...</td>\n",
       "      <td>...</td>\n",
       "      <td>...</td>\n",
       "      <td>...</td>\n",
       "      <td>...</td>\n",
       "      <td>...</td>\n",
       "      <td>...</td>\n",
       "      <td>...</td>\n",
       "      <td>...</td>\n",
       "      <td>...</td>\n",
       "      <td>...</td>\n",
       "      <td>...</td>\n",
       "      <td>...</td>\n",
       "    </tr>\n",
       "  </tbody>\n",
       "</table>\n",
       "</div>\n",
       "<div>Dask Name: from-delayed, 1608 tasks</div>"
      ],
      "text/plain": [
       "Dask DataFrame Structure:\n",
       "                load_ts batch_id audit_zip audit_internal_path    guid interval_start_utc interval_end_utc interval_local_start interval_local_end      ts      dt system_power_state event_type duration battery_percent_remaining battery_minutes_remaining\n",
       "npartitions=536                                                                                                                                                                                                                                              \n",
       "                 object   object    object              object  object             object           object               object             object  object  object             object     object  float64                     int64                   float64\n",
       "                    ...      ...       ...                 ...     ...                ...              ...                  ...                ...     ...     ...                ...        ...      ...                       ...                       ...\n",
       "...                 ...      ...       ...                 ...     ...                ...              ...                  ...                ...     ...     ...                ...        ...      ...                       ...                       ...\n",
       "                    ...      ...       ...                 ...     ...                ...              ...                  ...                ...     ...     ...                ...        ...      ...                       ...                       ...\n",
       "                    ...      ...       ...                 ...     ...                ...              ...                  ...                ...     ...     ...                ...        ...      ...                       ...                       ...\n",
       "Dask Name: from-delayed, 1608 tasks"
      ]
     },
     "execution_count": 5,
     "metadata": {},
     "output_type": "execute_result"
    }
   ],
   "source": [
    "batt_acdc"
   ]
  },
  {
   "cell_type": "code",
   "execution_count": 6,
   "metadata": {},
   "outputs": [
    {
     "name": "stdout",
     "output_type": "stream",
     "text": [
      "Index(['load_ts', 'batch_id', 'audit_zip', 'audit_internal_path', 'guid',\n",
      "       'interval_start_utc', 'interval_end_utc', 'interval_local_start',\n",
      "       'interval_local_end', 'event_dt', 'event_ts', 'event_name',\n",
      "       'event_duration_ms', 'num_proc_samples', 'frgnd_proc_name',\n",
      "       'frgnd_proc_dt', 'frgnd_proc_ts', 'frgnd_proc_duration_ms',\n",
      "       'frgnd_proc_pkg', 'frgnd_captioned', 'frgnd_window_mode',\n",
      "       'frgnd_non_responsive', 'proc_name', 'proc_cpu_utilization'],\n",
      "      dtype='object')\n",
      "Index(['load_ts', 'batch_id', 'audit_zip', 'audit_internal_path', 'guid',\n",
      "       'interval_start_utc', 'interval_end_utc', 'interval_local_start',\n",
      "       'interval_local_end', 'ts', 'dt', 'device', 'hw_name', 'name',\n",
      "       'duration', 'status'],\n",
      "      dtype='object')\n",
      "Index(['load_ts', 'batch_id', 'audit_zip', 'audit_internal_path', 'guid',\n",
      "       'interval_start_utc', 'interval_end_utc', 'interval_local_start',\n",
      "       'interval_local_end', 'ts', 'dt', 'device', 'hw_name', 'name',\n",
      "       'duration', 'status'],\n",
      "      dtype='object')\n",
      "Index(['load_ts', 'batch_id', 'audit_zip', 'audit_internal_path', 'guid',\n",
      "       'interval_start_utc', 'interval_end_utc', 'interval_local_start',\n",
      "       'interval_local_end', 'ts', 'dt', 'system_power_state', 'event_type',\n",
      "       'duration', 'battery_percent_remaining', 'battery_minutes_remaining'],\n",
      "      dtype='object')\n",
      "Index(['load_ts', 'batch_id', 'audit_zip', 'audit_internal_path', 'guid',\n",
      "       'interval_start_utc', 'interval_end_utc', 'interval_local_start',\n",
      "       'interval_local_end', 'ts', 'dt', 'battery_enum', 'chemistry',\n",
      "       'designed_capacity', 'full_charge_capacity', 'battery_count'],\n",
      "      dtype='object')\n"
     ]
    }
   ],
   "source": [
    "#Inspecting the columns of a DataFrame\n",
    "print(frgnd_backgrnd_apps.columns)\n",
    "print(devuse1.columns)\n",
    "print(devuse2.columns)\n",
    "print(batt_acdc.columns)\n",
    "print(batt_info.columns)"
   ]
  },
  {
   "cell_type": "code",
   "execution_count": 7,
   "metadata": {},
   "outputs": [
    {
     "data": {
      "text/plain": [
       "['interval_local_start',\n",
       " 'audit_zip',\n",
       " 'guid',\n",
       " 'audit_internal_path',\n",
       " 'batch_id',\n",
       " 'load_ts',\n",
       " 'interval_end_utc',\n",
       " 'interval_local_end',\n",
       " 'interval_start_utc']"
      ]
     },
     "execution_count": 7,
     "metadata": {},
     "output_type": "execute_result"
    }
   ],
   "source": [
    "#Finding the common columns between the  DataFrames\n",
    "from functools import reduce\n",
    "\n",
    "columns = [set(frgnd_backgrnd_apps.columns),\n",
    "    set(devuse1.columns),\n",
    "    set(devuse2.columns),\n",
    "    set(batt_acdc.columns),\n",
    "          set(batt_info.columns)]\n",
    "common_columns = list(reduce(lambda a, i: a.intersection(i), columns))\n",
    "common_columns "
   ]
  },
  {
   "cell_type": "markdown",
   "metadata": {},
   "source": [
    "Now that we have a set of common columns shared by all four of the DataFrames, let’s take a look at the first couple of rows of the frgnd_backgrnd_apps DataFrame."
   ]
  },
  {
   "cell_type": "code",
   "execution_count": 8,
   "metadata": {},
   "outputs": [
    {
     "data": {
      "text/html": [
       "<div>\n",
       "<style scoped>\n",
       "    .dataframe tbody tr th:only-of-type {\n",
       "        vertical-align: middle;\n",
       "    }\n",
       "\n",
       "    .dataframe tbody tr th {\n",
       "        vertical-align: top;\n",
       "    }\n",
       "\n",
       "    .dataframe thead th {\n",
       "        text-align: right;\n",
       "    }\n",
       "</style>\n",
       "<table border=\"1\" class=\"dataframe\">\n",
       "  <thead>\n",
       "    <tr style=\"text-align: right;\">\n",
       "      <th></th>\n",
       "      <th>load_ts</th>\n",
       "      <th>batch_id</th>\n",
       "      <th>audit_zip</th>\n",
       "      <th>audit_internal_path</th>\n",
       "      <th>guid</th>\n",
       "      <th>interval_start_utc</th>\n",
       "      <th>interval_end_utc</th>\n",
       "      <th>interval_local_start</th>\n",
       "      <th>interval_local_end</th>\n",
       "      <th>event_dt</th>\n",
       "      <th>...</th>\n",
       "      <th>frgnd_proc_name</th>\n",
       "      <th>frgnd_proc_dt</th>\n",
       "      <th>frgnd_proc_ts</th>\n",
       "      <th>frgnd_proc_duration_ms</th>\n",
       "      <th>frgnd_proc_pkg</th>\n",
       "      <th>frgnd_captioned</th>\n",
       "      <th>frgnd_window_mode</th>\n",
       "      <th>frgnd_non_responsive</th>\n",
       "      <th>proc_name</th>\n",
       "      <th>proc_cpu_utilization</th>\n",
       "    </tr>\n",
       "  </thead>\n",
       "  <tbody>\n",
       "    <tr>\n",
       "      <th>0</th>\n",
       "      <td>2020-10-12 03:07:56</td>\n",
       "      <td>20201011-200228</td>\n",
       "      <td>2020101115-i-040171543e1bfef37-ud0Qz3DtGaeMoEs...</td>\n",
       "      <td>V8_1_FRGND_BACKGRND_APPS20201010201454.V8</td>\n",
       "      <td>003019b8c0ae454eb228609aa48ac8d1</td>\n",
       "      <td>2020-10-10 00:14:10</td>\n",
       "      <td>2020-10-11 00:15:17</td>\n",
       "      <td>2020-10-09 20:14:10</td>\n",
       "      <td>2020-10-10 20:15:17</td>\n",
       "      <td>2020-10-09</td>\n",
       "      <td>...</td>\n",
       "      <td>NaN</td>\n",
       "      <td>2020-10-09</td>\n",
       "      <td>2020-10-09 22:00:25.561</td>\n",
       "      <td>0</td>\n",
       "      <td>NaN</td>\n",
       "      <td>NaN</td>\n",
       "      <td>NaN</td>\n",
       "      <td>f</td>\n",
       "      <td>DSATray.exe</td>\n",
       "      <td>0.12</td>\n",
       "    </tr>\n",
       "    <tr>\n",
       "      <th>1</th>\n",
       "      <td>2020-10-12 03:07:56</td>\n",
       "      <td>20201011-200228</td>\n",
       "      <td>2020101115-i-040171543e1bfef37-ud0Qz3DtGaeMoEs...</td>\n",
       "      <td>V8_1_FRGND_BACKGRND_APPS20201010201454.V8</td>\n",
       "      <td>003019b8c0ae454eb228609aa48ac8d1</td>\n",
       "      <td>2020-10-10 00:14:10</td>\n",
       "      <td>2020-10-11 00:15:17</td>\n",
       "      <td>2020-10-09 20:14:10</td>\n",
       "      <td>2020-10-10 20:15:17</td>\n",
       "      <td>2020-10-09</td>\n",
       "      <td>...</td>\n",
       "      <td>chrome.exe</td>\n",
       "      <td>2020-10-09</td>\n",
       "      <td>2020-10-09 22:28:43.737</td>\n",
       "      <td>802973</td>\n",
       "      <td>NaN</td>\n",
       "      <td>c1</td>\n",
       "      <td>W</td>\n",
       "      <td>f</td>\n",
       "      <td>GameScannerService.exe</td>\n",
       "      <td>0.39</td>\n",
       "    </tr>\n",
       "    <tr>\n",
       "      <th>2</th>\n",
       "      <td>2020-10-12 03:07:56</td>\n",
       "      <td>20201011-200228</td>\n",
       "      <td>2020101115-i-040171543e1bfef37-ud0Qz3DtGaeMoEs...</td>\n",
       "      <td>V8_1_FRGND_BACKGRND_APPS20201010201454.V8</td>\n",
       "      <td>003019b8c0ae454eb228609aa48ac8d1</td>\n",
       "      <td>2020-10-10 00:14:10</td>\n",
       "      <td>2020-10-11 00:15:17</td>\n",
       "      <td>2020-10-09 20:14:10</td>\n",
       "      <td>2020-10-10 20:15:17</td>\n",
       "      <td>2020-10-09</td>\n",
       "      <td>...</td>\n",
       "      <td>chrome.exe</td>\n",
       "      <td>2020-10-09</td>\n",
       "      <td>2020-10-09 22:50:41.24</td>\n",
       "      <td>2343497</td>\n",
       "      <td>NaN</td>\n",
       "      <td>c1</td>\n",
       "      <td>W</td>\n",
       "      <td>f</td>\n",
       "      <td>GameScannerService.exe</td>\n",
       "      <td>0.85</td>\n",
       "    </tr>\n",
       "    <tr>\n",
       "      <th>3</th>\n",
       "      <td>2020-10-12 03:07:56</td>\n",
       "      <td>20201011-200228</td>\n",
       "      <td>2020101115-i-040171543e1bfef37-ud0Qz3DtGaeMoEs...</td>\n",
       "      <td>V8_1_FRGND_BACKGRND_APPS20201010201454.V8</td>\n",
       "      <td>003019b8c0ae454eb228609aa48ac8d1</td>\n",
       "      <td>2020-10-10 00:14:10</td>\n",
       "      <td>2020-10-11 00:15:17</td>\n",
       "      <td>2020-10-09 20:14:10</td>\n",
       "      <td>2020-10-10 20:15:17</td>\n",
       "      <td>2020-10-09</td>\n",
       "      <td>...</td>\n",
       "      <td>NaN</td>\n",
       "      <td>2020-10-09</td>\n",
       "      <td>2020-10-09 20:14:48.094</td>\n",
       "      <td>0</td>\n",
       "      <td>NaN</td>\n",
       "      <td>NaN</td>\n",
       "      <td>NaN</td>\n",
       "      <td>f</td>\n",
       "      <td>MoUsoCoreWorker.exe</td>\n",
       "      <td>1.12</td>\n",
       "    </tr>\n",
       "    <tr>\n",
       "      <th>4</th>\n",
       "      <td>2020-10-12 03:07:56</td>\n",
       "      <td>20201011-200228</td>\n",
       "      <td>2020101115-i-040171543e1bfef37-ud0Qz3DtGaeMoEs...</td>\n",
       "      <td>V8_1_FRGND_BACKGRND_APPS20201010201454.V8</td>\n",
       "      <td>003019b8c0ae454eb228609aa48ac8d1</td>\n",
       "      <td>2020-10-10 00:14:10</td>\n",
       "      <td>2020-10-11 00:15:17</td>\n",
       "      <td>2020-10-09 20:14:10</td>\n",
       "      <td>2020-10-10 20:15:17</td>\n",
       "      <td>2020-10-09</td>\n",
       "      <td>...</td>\n",
       "      <td>chrome.exe</td>\n",
       "      <td>2020-10-09</td>\n",
       "      <td>2020-10-09 22:50:41.24</td>\n",
       "      <td>2343497</td>\n",
       "      <td>NaN</td>\n",
       "      <td>c1</td>\n",
       "      <td>W</td>\n",
       "      <td>f</td>\n",
       "      <td>MsMpEng.exe</td>\n",
       "      <td>0.58</td>\n",
       "    </tr>\n",
       "  </tbody>\n",
       "</table>\n",
       "<p>5 rows × 24 columns</p>\n",
       "</div>"
      ],
      "text/plain": [
       "               load_ts         batch_id  \\\n",
       "0  2020-10-12 03:07:56  20201011-200228   \n",
       "1  2020-10-12 03:07:56  20201011-200228   \n",
       "2  2020-10-12 03:07:56  20201011-200228   \n",
       "3  2020-10-12 03:07:56  20201011-200228   \n",
       "4  2020-10-12 03:07:56  20201011-200228   \n",
       "\n",
       "                                           audit_zip  \\\n",
       "0  2020101115-i-040171543e1bfef37-ud0Qz3DtGaeMoEs...   \n",
       "1  2020101115-i-040171543e1bfef37-ud0Qz3DtGaeMoEs...   \n",
       "2  2020101115-i-040171543e1bfef37-ud0Qz3DtGaeMoEs...   \n",
       "3  2020101115-i-040171543e1bfef37-ud0Qz3DtGaeMoEs...   \n",
       "4  2020101115-i-040171543e1bfef37-ud0Qz3DtGaeMoEs...   \n",
       "\n",
       "                         audit_internal_path  \\\n",
       "0  V8_1_FRGND_BACKGRND_APPS20201010201454.V8   \n",
       "1  V8_1_FRGND_BACKGRND_APPS20201010201454.V8   \n",
       "2  V8_1_FRGND_BACKGRND_APPS20201010201454.V8   \n",
       "3  V8_1_FRGND_BACKGRND_APPS20201010201454.V8   \n",
       "4  V8_1_FRGND_BACKGRND_APPS20201010201454.V8   \n",
       "\n",
       "                               guid   interval_start_utc     interval_end_utc  \\\n",
       "0  003019b8c0ae454eb228609aa48ac8d1  2020-10-10 00:14:10  2020-10-11 00:15:17   \n",
       "1  003019b8c0ae454eb228609aa48ac8d1  2020-10-10 00:14:10  2020-10-11 00:15:17   \n",
       "2  003019b8c0ae454eb228609aa48ac8d1  2020-10-10 00:14:10  2020-10-11 00:15:17   \n",
       "3  003019b8c0ae454eb228609aa48ac8d1  2020-10-10 00:14:10  2020-10-11 00:15:17   \n",
       "4  003019b8c0ae454eb228609aa48ac8d1  2020-10-10 00:14:10  2020-10-11 00:15:17   \n",
       "\n",
       "  interval_local_start   interval_local_end    event_dt  ... frgnd_proc_name  \\\n",
       "0  2020-10-09 20:14:10  2020-10-10 20:15:17  2020-10-09  ...             NaN   \n",
       "1  2020-10-09 20:14:10  2020-10-10 20:15:17  2020-10-09  ...      chrome.exe   \n",
       "2  2020-10-09 20:14:10  2020-10-10 20:15:17  2020-10-09  ...      chrome.exe   \n",
       "3  2020-10-09 20:14:10  2020-10-10 20:15:17  2020-10-09  ...             NaN   \n",
       "4  2020-10-09 20:14:10  2020-10-10 20:15:17  2020-10-09  ...      chrome.exe   \n",
       "\n",
       "  frgnd_proc_dt            frgnd_proc_ts  frgnd_proc_duration_ms  \\\n",
       "0    2020-10-09  2020-10-09 22:00:25.561                       0   \n",
       "1    2020-10-09  2020-10-09 22:28:43.737                  802973   \n",
       "2    2020-10-09   2020-10-09 22:50:41.24                 2343497   \n",
       "3    2020-10-09  2020-10-09 20:14:48.094                       0   \n",
       "4    2020-10-09   2020-10-09 22:50:41.24                 2343497   \n",
       "\n",
       "  frgnd_proc_pkg frgnd_captioned frgnd_window_mode  frgnd_non_responsive  \\\n",
       "0            NaN             NaN               NaN                     f   \n",
       "1            NaN              c1                 W                     f   \n",
       "2            NaN              c1                 W                     f   \n",
       "3            NaN             NaN               NaN                     f   \n",
       "4            NaN              c1                 W                     f   \n",
       "\n",
       "                proc_name proc_cpu_utilization  \n",
       "0             DSATray.exe                 0.12  \n",
       "1  GameScannerService.exe                 0.39  \n",
       "2  GameScannerService.exe                 0.85  \n",
       "3     MoUsoCoreWorker.exe                 1.12  \n",
       "4             MsMpEng.exe                 0.58  \n",
       "\n",
       "[5 rows x 24 columns]"
      ]
     },
     "execution_count": 8,
     "metadata": {},
     "output_type": "execute_result"
    }
   ],
   "source": [
    "frgnd_backgrnd_apps.head()"
   ]
  },
  {
   "cell_type": "code",
   "execution_count": 9,
   "metadata": {},
   "outputs": [
    {
     "data": {
      "text/html": [
       "<div>\n",
       "<style scoped>\n",
       "    .dataframe tbody tr th:only-of-type {\n",
       "        vertical-align: middle;\n",
       "    }\n",
       "\n",
       "    .dataframe tbody tr th {\n",
       "        vertical-align: top;\n",
       "    }\n",
       "\n",
       "    .dataframe thead th {\n",
       "        text-align: right;\n",
       "    }\n",
       "</style>\n",
       "<table border=\"1\" class=\"dataframe\">\n",
       "  <thead>\n",
       "    <tr style=\"text-align: right;\">\n",
       "      <th></th>\n",
       "      <th>interval_local_start</th>\n",
       "      <th>audit_zip</th>\n",
       "      <th>guid</th>\n",
       "      <th>audit_internal_path</th>\n",
       "      <th>batch_id</th>\n",
       "      <th>load_ts</th>\n",
       "      <th>interval_end_utc</th>\n",
       "      <th>interval_local_end</th>\n",
       "      <th>interval_start_utc</th>\n",
       "    </tr>\n",
       "  </thead>\n",
       "  <tbody>\n",
       "    <tr>\n",
       "      <th>0</th>\n",
       "      <td>2020-10-09 20:14:10</td>\n",
       "      <td>2020101115-i-040171543e1bfef37-ud0Qz3DtGaeMoEs...</td>\n",
       "      <td>003019b8c0ae454eb228609aa48ac8d1</td>\n",
       "      <td>V8_1_FRGND_BACKGRND_APPS20201010201454.V8</td>\n",
       "      <td>20201011-200228</td>\n",
       "      <td>2020-10-12 03:07:56</td>\n",
       "      <td>2020-10-11 00:15:17</td>\n",
       "      <td>2020-10-10 20:15:17</td>\n",
       "      <td>2020-10-10 00:14:10</td>\n",
       "    </tr>\n",
       "    <tr>\n",
       "      <th>1</th>\n",
       "      <td>2020-10-09 20:14:10</td>\n",
       "      <td>2020101115-i-040171543e1bfef37-ud0Qz3DtGaeMoEs...</td>\n",
       "      <td>003019b8c0ae454eb228609aa48ac8d1</td>\n",
       "      <td>V8_1_FRGND_BACKGRND_APPS20201010201454.V8</td>\n",
       "      <td>20201011-200228</td>\n",
       "      <td>2020-10-12 03:07:56</td>\n",
       "      <td>2020-10-11 00:15:17</td>\n",
       "      <td>2020-10-10 20:15:17</td>\n",
       "      <td>2020-10-10 00:14:10</td>\n",
       "    </tr>\n",
       "    <tr>\n",
       "      <th>2</th>\n",
       "      <td>2020-10-09 20:14:10</td>\n",
       "      <td>2020101115-i-040171543e1bfef37-ud0Qz3DtGaeMoEs...</td>\n",
       "      <td>003019b8c0ae454eb228609aa48ac8d1</td>\n",
       "      <td>V8_1_FRGND_BACKGRND_APPS20201010201454.V8</td>\n",
       "      <td>20201011-200228</td>\n",
       "      <td>2020-10-12 03:07:56</td>\n",
       "      <td>2020-10-11 00:15:17</td>\n",
       "      <td>2020-10-10 20:15:17</td>\n",
       "      <td>2020-10-10 00:14:10</td>\n",
       "    </tr>\n",
       "    <tr>\n",
       "      <th>3</th>\n",
       "      <td>2020-10-09 20:14:10</td>\n",
       "      <td>2020101115-i-040171543e1bfef37-ud0Qz3DtGaeMoEs...</td>\n",
       "      <td>003019b8c0ae454eb228609aa48ac8d1</td>\n",
       "      <td>V8_1_FRGND_BACKGRND_APPS20201010201454.V8</td>\n",
       "      <td>20201011-200228</td>\n",
       "      <td>2020-10-12 03:07:56</td>\n",
       "      <td>2020-10-11 00:15:17</td>\n",
       "      <td>2020-10-10 20:15:17</td>\n",
       "      <td>2020-10-10 00:14:10</td>\n",
       "    </tr>\n",
       "    <tr>\n",
       "      <th>4</th>\n",
       "      <td>2020-10-09 20:14:10</td>\n",
       "      <td>2020101115-i-040171543e1bfef37-ud0Qz3DtGaeMoEs...</td>\n",
       "      <td>003019b8c0ae454eb228609aa48ac8d1</td>\n",
       "      <td>V8_1_FRGND_BACKGRND_APPS20201010201454.V8</td>\n",
       "      <td>20201011-200228</td>\n",
       "      <td>2020-10-12 03:07:56</td>\n",
       "      <td>2020-10-11 00:15:17</td>\n",
       "      <td>2020-10-10 20:15:17</td>\n",
       "      <td>2020-10-10 00:14:10</td>\n",
       "    </tr>\n",
       "  </tbody>\n",
       "</table>\n",
       "</div>"
      ],
      "text/plain": [
       "  interval_local_start                                          audit_zip  \\\n",
       "0  2020-10-09 20:14:10  2020101115-i-040171543e1bfef37-ud0Qz3DtGaeMoEs...   \n",
       "1  2020-10-09 20:14:10  2020101115-i-040171543e1bfef37-ud0Qz3DtGaeMoEs...   \n",
       "2  2020-10-09 20:14:10  2020101115-i-040171543e1bfef37-ud0Qz3DtGaeMoEs...   \n",
       "3  2020-10-09 20:14:10  2020101115-i-040171543e1bfef37-ud0Qz3DtGaeMoEs...   \n",
       "4  2020-10-09 20:14:10  2020101115-i-040171543e1bfef37-ud0Qz3DtGaeMoEs...   \n",
       "\n",
       "                               guid  \\\n",
       "0  003019b8c0ae454eb228609aa48ac8d1   \n",
       "1  003019b8c0ae454eb228609aa48ac8d1   \n",
       "2  003019b8c0ae454eb228609aa48ac8d1   \n",
       "3  003019b8c0ae454eb228609aa48ac8d1   \n",
       "4  003019b8c0ae454eb228609aa48ac8d1   \n",
       "\n",
       "                         audit_internal_path         batch_id  \\\n",
       "0  V8_1_FRGND_BACKGRND_APPS20201010201454.V8  20201011-200228   \n",
       "1  V8_1_FRGND_BACKGRND_APPS20201010201454.V8  20201011-200228   \n",
       "2  V8_1_FRGND_BACKGRND_APPS20201010201454.V8  20201011-200228   \n",
       "3  V8_1_FRGND_BACKGRND_APPS20201010201454.V8  20201011-200228   \n",
       "4  V8_1_FRGND_BACKGRND_APPS20201010201454.V8  20201011-200228   \n",
       "\n",
       "               load_ts     interval_end_utc   interval_local_end  \\\n",
       "0  2020-10-12 03:07:56  2020-10-11 00:15:17  2020-10-10 20:15:17   \n",
       "1  2020-10-12 03:07:56  2020-10-11 00:15:17  2020-10-10 20:15:17   \n",
       "2  2020-10-12 03:07:56  2020-10-11 00:15:17  2020-10-10 20:15:17   \n",
       "3  2020-10-12 03:07:56  2020-10-11 00:15:17  2020-10-10 20:15:17   \n",
       "4  2020-10-12 03:07:56  2020-10-11 00:15:17  2020-10-10 20:15:17   \n",
       "\n",
       "    interval_start_utc  \n",
       "0  2020-10-10 00:14:10  \n",
       "1  2020-10-10 00:14:10  \n",
       "2  2020-10-10 00:14:10  \n",
       "3  2020-10-10 00:14:10  \n",
       "4  2020-10-10 00:14:10  "
      ]
     },
     "execution_count": 9,
     "metadata": {},
     "output_type": "execute_result"
    }
   ],
   "source": [
    "#Looking at the head of the frgnd_backgrnd_apps DataFrame\n",
    "frgnd_backgrnd_apps[common_columns].head()"
   ]
  },
  {
   "cell_type": "markdown",
   "metadata": {},
   "source": [
    "## Cleaning and transforming DataFrames"
   ]
  },
  {
   "cell_type": "code",
   "execution_count": 10,
   "metadata": {},
   "outputs": [
    {
     "data": {
      "text/plain": [
       "Index(['event_dt', 'event_duration_ms', 'event_name', 'event_ts',\n",
       "       'frgnd_captioned', 'frgnd_non_responsive', 'frgnd_proc_dt',\n",
       "       'frgnd_proc_duration_ms', 'frgnd_proc_name', 'frgnd_proc_pkg',\n",
       "       'frgnd_proc_ts', 'frgnd_window_mode', 'num_proc_samples',\n",
       "       'proc_cpu_utilization', 'proc_name'],\n",
       "      dtype='object')"
      ]
     },
     "execution_count": 10,
     "metadata": {},
     "output_type": "execute_result"
    }
   ],
   "source": [
    "frgnd_backgrnd_apps_poi = frgnd_backgrnd_apps.columns.difference(common_columns)\n",
    "frgnd_backgrnd_apps_poi"
   ]
  },
  {
   "cell_type": "code",
   "execution_count": 11,
   "metadata": {},
   "outputs": [
    {
     "data": {
      "text/html": [
       "<div>\n",
       "<style scoped>\n",
       "    .dataframe tbody tr th:only-of-type {\n",
       "        vertical-align: middle;\n",
       "    }\n",
       "\n",
       "    .dataframe tbody tr th {\n",
       "        vertical-align: top;\n",
       "    }\n",
       "\n",
       "    .dataframe thead th {\n",
       "        text-align: right;\n",
       "    }\n",
       "</style>\n",
       "<table border=\"1\" class=\"dataframe\">\n",
       "  <thead>\n",
       "    <tr style=\"text-align: right;\">\n",
       "      <th></th>\n",
       "      <th>event_dt</th>\n",
       "      <th>event_duration_ms</th>\n",
       "      <th>event_name</th>\n",
       "      <th>event_ts</th>\n",
       "      <th>frgnd_captioned</th>\n",
       "      <th>frgnd_non_responsive</th>\n",
       "      <th>frgnd_proc_dt</th>\n",
       "      <th>frgnd_proc_duration_ms</th>\n",
       "      <th>frgnd_proc_name</th>\n",
       "      <th>frgnd_proc_pkg</th>\n",
       "      <th>frgnd_proc_ts</th>\n",
       "      <th>frgnd_window_mode</th>\n",
       "      <th>num_proc_samples</th>\n",
       "      <th>proc_cpu_utilization</th>\n",
       "      <th>proc_name</th>\n",
       "    </tr>\n",
       "  </thead>\n",
       "  <tbody>\n",
       "    <tr>\n",
       "      <th>0</th>\n",
       "      <td>2020-10-09</td>\n",
       "      <td>156317</td>\n",
       "      <td>DC_DISPLAY_OFF</td>\n",
       "      <td>2020-10-09 22:00:25.561</td>\n",
       "      <td>NaN</td>\n",
       "      <td>f</td>\n",
       "      <td>2020-10-09</td>\n",
       "      <td>0</td>\n",
       "      <td>NaN</td>\n",
       "      <td>NaN</td>\n",
       "      <td>2020-10-09 22:00:25.561</td>\n",
       "      <td>NaN</td>\n",
       "      <td>16</td>\n",
       "      <td>0.12</td>\n",
       "      <td>DSATray.exe</td>\n",
       "    </tr>\n",
       "    <tr>\n",
       "      <th>1</th>\n",
       "      <td>2020-10-09</td>\n",
       "      <td>5203164</td>\n",
       "      <td>DC_DISPLAY_ON</td>\n",
       "      <td>2020-10-09 22:03:01.879</td>\n",
       "      <td>c1</td>\n",
       "      <td>f</td>\n",
       "      <td>2020-10-09</td>\n",
       "      <td>802973</td>\n",
       "      <td>chrome.exe</td>\n",
       "      <td>NaN</td>\n",
       "      <td>2020-10-09 22:28:43.737</td>\n",
       "      <td>W</td>\n",
       "      <td>80</td>\n",
       "      <td>0.39</td>\n",
       "      <td>GameScannerService.exe</td>\n",
       "    </tr>\n",
       "    <tr>\n",
       "      <th>2</th>\n",
       "      <td>2020-10-09</td>\n",
       "      <td>5203164</td>\n",
       "      <td>DC_DISPLAY_ON</td>\n",
       "      <td>2020-10-09 22:03:01.879</td>\n",
       "      <td>c1</td>\n",
       "      <td>f</td>\n",
       "      <td>2020-10-09</td>\n",
       "      <td>2343497</td>\n",
       "      <td>chrome.exe</td>\n",
       "      <td>NaN</td>\n",
       "      <td>2020-10-09 22:50:41.24</td>\n",
       "      <td>W</td>\n",
       "      <td>234</td>\n",
       "      <td>0.85</td>\n",
       "      <td>GameScannerService.exe</td>\n",
       "    </tr>\n",
       "    <tr>\n",
       "      <th>3</th>\n",
       "      <td>2020-10-09</td>\n",
       "      <td>4773068</td>\n",
       "      <td>DC_DISPLAY_ON</td>\n",
       "      <td>2020-10-09 20:14:48.094</td>\n",
       "      <td>NaN</td>\n",
       "      <td>f</td>\n",
       "      <td>2020-10-09</td>\n",
       "      <td>0</td>\n",
       "      <td>NaN</td>\n",
       "      <td>NaN</td>\n",
       "      <td>2020-10-09 20:14:48.094</td>\n",
       "      <td>NaN</td>\n",
       "      <td>478</td>\n",
       "      <td>1.12</td>\n",
       "      <td>MoUsoCoreWorker.exe</td>\n",
       "    </tr>\n",
       "    <tr>\n",
       "      <th>4</th>\n",
       "      <td>2020-10-09</td>\n",
       "      <td>5203164</td>\n",
       "      <td>DC_DISPLAY_ON</td>\n",
       "      <td>2020-10-09 22:03:01.879</td>\n",
       "      <td>c1</td>\n",
       "      <td>f</td>\n",
       "      <td>2020-10-09</td>\n",
       "      <td>2343497</td>\n",
       "      <td>chrome.exe</td>\n",
       "      <td>NaN</td>\n",
       "      <td>2020-10-09 22:50:41.24</td>\n",
       "      <td>W</td>\n",
       "      <td>234</td>\n",
       "      <td>0.58</td>\n",
       "      <td>MsMpEng.exe</td>\n",
       "    </tr>\n",
       "  </tbody>\n",
       "</table>\n",
       "</div>"
      ],
      "text/plain": [
       "     event_dt  event_duration_ms      event_name                 event_ts  \\\n",
       "0  2020-10-09             156317  DC_DISPLAY_OFF  2020-10-09 22:00:25.561   \n",
       "1  2020-10-09            5203164   DC_DISPLAY_ON  2020-10-09 22:03:01.879   \n",
       "2  2020-10-09            5203164   DC_DISPLAY_ON  2020-10-09 22:03:01.879   \n",
       "3  2020-10-09            4773068   DC_DISPLAY_ON  2020-10-09 20:14:48.094   \n",
       "4  2020-10-09            5203164   DC_DISPLAY_ON  2020-10-09 22:03:01.879   \n",
       "\n",
       "  frgnd_captioned frgnd_non_responsive frgnd_proc_dt  frgnd_proc_duration_ms  \\\n",
       "0             NaN                    f    2020-10-09                       0   \n",
       "1              c1                    f    2020-10-09                  802973   \n",
       "2              c1                    f    2020-10-09                 2343497   \n",
       "3             NaN                    f    2020-10-09                       0   \n",
       "4              c1                    f    2020-10-09                 2343497   \n",
       "\n",
       "  frgnd_proc_name frgnd_proc_pkg            frgnd_proc_ts frgnd_window_mode  \\\n",
       "0             NaN            NaN  2020-10-09 22:00:25.561               NaN   \n",
       "1      chrome.exe            NaN  2020-10-09 22:28:43.737                 W   \n",
       "2      chrome.exe            NaN   2020-10-09 22:50:41.24                 W   \n",
       "3             NaN            NaN  2020-10-09 20:14:48.094               NaN   \n",
       "4      chrome.exe            NaN   2020-10-09 22:50:41.24                 W   \n",
       "\n",
       "   num_proc_samples  proc_cpu_utilization               proc_name  \n",
       "0                16                  0.12             DSATray.exe  \n",
       "1                80                  0.39  GameScannerService.exe  \n",
       "2               234                  0.85  GameScannerService.exe  \n",
       "3               478                  1.12     MoUsoCoreWorker.exe  \n",
       "4               234                  0.58             MsMpEng.exe  "
      ]
     },
     "execution_count": 11,
     "metadata": {},
     "output_type": "execute_result"
    }
   ],
   "source": [
    "frgnd_backgrnd_apps[frgnd_backgrnd_apps_poi].head()"
   ]
  },
  {
   "cell_type": "code",
   "execution_count": 12,
   "metadata": {},
   "outputs": [
    {
     "data": {
      "text/plain": [
       "Index(['device', 'dt', 'duration', 'hw_name', 'name', 'status', 'ts'], dtype='object')"
      ]
     },
     "execution_count": 12,
     "metadata": {},
     "output_type": "execute_result"
    }
   ],
   "source": [
    "devuse1_poi = devuse1.columns.difference(common_columns)\n",
    "devuse1_poi"
   ]
  },
  {
   "cell_type": "code",
   "execution_count": 13,
   "metadata": {},
   "outputs": [
    {
     "data": {
      "text/html": [
       "<div>\n",
       "<style scoped>\n",
       "    .dataframe tbody tr th:only-of-type {\n",
       "        vertical-align: middle;\n",
       "    }\n",
       "\n",
       "    .dataframe tbody tr th {\n",
       "        vertical-align: top;\n",
       "    }\n",
       "\n",
       "    .dataframe thead th {\n",
       "        text-align: right;\n",
       "    }\n",
       "</style>\n",
       "<table border=\"1\" class=\"dataframe\">\n",
       "  <thead>\n",
       "    <tr style=\"text-align: right;\">\n",
       "      <th></th>\n",
       "      <th>device</th>\n",
       "      <th>dt</th>\n",
       "      <th>duration</th>\n",
       "      <th>hw_name</th>\n",
       "      <th>name</th>\n",
       "      <th>status</th>\n",
       "      <th>ts</th>\n",
       "    </tr>\n",
       "  </thead>\n",
       "  <tbody>\n",
       "    <tr>\n",
       "      <th>0</th>\n",
       "      <td>GUID_DEVINTERFACE_DISPLAY_ADAPTER</td>\n",
       "      <td>2019-11-10</td>\n",
       "      <td>16571</td>\n",
       "      <td>PCI\\VEN_8086&amp;DEV_0F31&amp;SUBSYS_14DD1043&amp;REV_0E</td>\n",
       "      <td>Intel(R) HD Graphics</td>\n",
       "      <td>4</td>\n",
       "      <td>2019-11-10 20:58:51</td>\n",
       "    </tr>\n",
       "    <tr>\n",
       "      <th>1</th>\n",
       "      <td>GUID_DEVINTERFACE_KEYBOARD</td>\n",
       "      <td>2019-11-11</td>\n",
       "      <td>82117</td>\n",
       "      <td>ACPI\\VEN_ATK&amp;DEV_3001</td>\n",
       "      <td>PC/AT Enhanced PS/2 Keyboard (101/102-Key)</td>\n",
       "      <td>4</td>\n",
       "      <td>2019-11-11 21:00:33</td>\n",
       "    </tr>\n",
       "    <tr>\n",
       "      <th>2</th>\n",
       "      <td>GUID_DEVINTERFACE_MOUSE</td>\n",
       "      <td>2019-11-11</td>\n",
       "      <td>82117</td>\n",
       "      <td>ACPI\\VEN_ETD&amp;DEV_0108</td>\n",
       "      <td>ASUS Touchpad</td>\n",
       "      <td>4</td>\n",
       "      <td>2019-11-11 21:00:33</td>\n",
       "    </tr>\n",
       "    <tr>\n",
       "      <th>3</th>\n",
       "      <td>GUID_DEVICE_BATTERY</td>\n",
       "      <td>2019-11-11</td>\n",
       "      <td>82117</td>\n",
       "      <td>ACPI\\VEN_PNP&amp;DEV_0C0A</td>\n",
       "      <td>Microsoft ACPI-Compliant Control Method Battery</td>\n",
       "      <td>4</td>\n",
       "      <td>2019-11-11 21:00:33</td>\n",
       "    </tr>\n",
       "    <tr>\n",
       "      <th>4</th>\n",
       "      <td>GUID_DEVINTERFACE_HID</td>\n",
       "      <td>2019-11-11</td>\n",
       "      <td>82117</td>\n",
       "      <td>HID\\VEN_ATK&amp;DEV_4001</td>\n",
       "      <td>HID-compliant wireless radio controls</td>\n",
       "      <td>4</td>\n",
       "      <td>2019-11-11 21:00:33</td>\n",
       "    </tr>\n",
       "  </tbody>\n",
       "</table>\n",
       "</div>"
      ],
      "text/plain": [
       "                              device          dt  duration  \\\n",
       "0  GUID_DEVINTERFACE_DISPLAY_ADAPTER  2019-11-10     16571   \n",
       "1         GUID_DEVINTERFACE_KEYBOARD  2019-11-11     82117   \n",
       "2            GUID_DEVINTERFACE_MOUSE  2019-11-11     82117   \n",
       "3                GUID_DEVICE_BATTERY  2019-11-11     82117   \n",
       "4              GUID_DEVINTERFACE_HID  2019-11-11     82117   \n",
       "\n",
       "                                        hw_name  \\\n",
       "0  PCI\\VEN_8086&DEV_0F31&SUBSYS_14DD1043&REV_0E   \n",
       "1                         ACPI\\VEN_ATK&DEV_3001   \n",
       "2                         ACPI\\VEN_ETD&DEV_0108   \n",
       "3                         ACPI\\VEN_PNP&DEV_0C0A   \n",
       "4                          HID\\VEN_ATK&DEV_4001   \n",
       "\n",
       "                                              name  status  \\\n",
       "0                             Intel(R) HD Graphics       4   \n",
       "1       PC/AT Enhanced PS/2 Keyboard (101/102-Key)       4   \n",
       "2                                    ASUS Touchpad       4   \n",
       "3  Microsoft ACPI-Compliant Control Method Battery       4   \n",
       "4            HID-compliant wireless radio controls       4   \n",
       "\n",
       "                    ts  \n",
       "0  2019-11-10 20:58:51  \n",
       "1  2019-11-11 21:00:33  \n",
       "2  2019-11-11 21:00:33  \n",
       "3  2019-11-11 21:00:33  \n",
       "4  2019-11-11 21:00:33  "
      ]
     },
     "execution_count": 13,
     "metadata": {},
     "output_type": "execute_result"
    }
   ],
   "source": [
    "devuse1[devuse1_poi].head()"
   ]
  },
  {
   "cell_type": "code",
   "execution_count": 14,
   "metadata": {},
   "outputs": [
    {
     "data": {
      "text/html": [
       "<div>\n",
       "<style scoped>\n",
       "    .dataframe tbody tr th:only-of-type {\n",
       "        vertical-align: middle;\n",
       "    }\n",
       "\n",
       "    .dataframe tbody tr th {\n",
       "        vertical-align: top;\n",
       "    }\n",
       "\n",
       "    .dataframe thead th {\n",
       "        text-align: right;\n",
       "    }\n",
       "</style>\n",
       "<table border=\"1\" class=\"dataframe\">\n",
       "  <thead>\n",
       "    <tr style=\"text-align: right;\">\n",
       "      <th></th>\n",
       "      <th>device</th>\n",
       "      <th>dt</th>\n",
       "      <th>duration</th>\n",
       "      <th>hw_name</th>\n",
       "      <th>name</th>\n",
       "      <th>status</th>\n",
       "      <th>ts</th>\n",
       "    </tr>\n",
       "  </thead>\n",
       "  <tbody>\n",
       "    <tr>\n",
       "      <th>0</th>\n",
       "      <td>GUID_DEVINTERFACE_DISK</td>\n",
       "      <td>2020-05-10</td>\n",
       "      <td>24953.0</td>\n",
       "      <td>SCSI\\DiskSAMSUNG_MZNLN512HMJP-000MAV2</td>\n",
       "      <td>SAMSUNG MZNLN512HMJP-000L7</td>\n",
       "      <td>4</td>\n",
       "      <td>2020-05-10 22:48:53</td>\n",
       "    </tr>\n",
       "    <tr>\n",
       "      <th>1</th>\n",
       "      <td>GUID_DEVINTERFACE_VOLUME</td>\n",
       "      <td>2020-05-10</td>\n",
       "      <td>24953.0</td>\n",
       "      <td>STORAGE\\Volume</td>\n",
       "      <td>Volume</td>\n",
       "      <td>4</td>\n",
       "      <td>2020-05-10 22:48:53</td>\n",
       "    </tr>\n",
       "    <tr>\n",
       "      <th>2</th>\n",
       "      <td>GUID_DEVINTERFACE_IMAGE</td>\n",
       "      <td>2020-05-10</td>\n",
       "      <td>24953.0</td>\n",
       "      <td>SUSD_VISTA_2008_WIN7_2008R2_64</td>\n",
       "      <td>Samsung Universal Scan Driver</td>\n",
       "      <td>4</td>\n",
       "      <td>2020-05-10 22:48:53</td>\n",
       "    </tr>\n",
       "    <tr>\n",
       "      <th>3</th>\n",
       "      <td>GUID_DEVINTERFACE_SENSOR</td>\n",
       "      <td>2020-05-10</td>\n",
       "      <td>24953.0</td>\n",
       "      <td>Sensors\\SensorsSimulatorDriver</td>\n",
       "      <td>Microsoft Visual Studio Location Simulator Sensor</td>\n",
       "      <td>4</td>\n",
       "      <td>2020-05-10 22:48:53</td>\n",
       "    </tr>\n",
       "    <tr>\n",
       "      <th>4</th>\n",
       "      <td>GUID_DEVINTERFACE_USB_DEVICE</td>\n",
       "      <td>2020-05-10</td>\n",
       "      <td>24953.0</td>\n",
       "      <td>USB\\VID_04F2&amp;PID_B52C&amp;REV_0029</td>\n",
       "      <td>USB Composite Device</td>\n",
       "      <td>4</td>\n",
       "      <td>2020-05-10 22:48:53</td>\n",
       "    </tr>\n",
       "  </tbody>\n",
       "</table>\n",
       "</div>"
      ],
      "text/plain": [
       "                         device          dt  duration  \\\n",
       "0        GUID_DEVINTERFACE_DISK  2020-05-10   24953.0   \n",
       "1      GUID_DEVINTERFACE_VOLUME  2020-05-10   24953.0   \n",
       "2       GUID_DEVINTERFACE_IMAGE  2020-05-10   24953.0   \n",
       "3      GUID_DEVINTERFACE_SENSOR  2020-05-10   24953.0   \n",
       "4  GUID_DEVINTERFACE_USB_DEVICE  2020-05-10   24953.0   \n",
       "\n",
       "                                 hw_name  \\\n",
       "0  SCSI\\DiskSAMSUNG_MZNLN512HMJP-000MAV2   \n",
       "1                         STORAGE\\Volume   \n",
       "2         SUSD_VISTA_2008_WIN7_2008R2_64   \n",
       "3         Sensors\\SensorsSimulatorDriver   \n",
       "4         USB\\VID_04F2&PID_B52C&REV_0029   \n",
       "\n",
       "                                                name  status  \\\n",
       "0                         SAMSUNG MZNLN512HMJP-000L7       4   \n",
       "1                                             Volume       4   \n",
       "2                      Samsung Universal Scan Driver       4   \n",
       "3  Microsoft Visual Studio Location Simulator Sensor       4   \n",
       "4                               USB Composite Device       4   \n",
       "\n",
       "                    ts  \n",
       "0  2020-05-10 22:48:53  \n",
       "1  2020-05-10 22:48:53  \n",
       "2  2020-05-10 22:48:53  \n",
       "3  2020-05-10 22:48:53  \n",
       "4  2020-05-10 22:48:53  "
      ]
     },
     "execution_count": 14,
     "metadata": {},
     "output_type": "execute_result"
    }
   ],
   "source": [
    "devuse2_poi = devuse2.columns.difference(common_columns)\n",
    "devuse2[devuse2_poi].head()"
   ]
  },
  {
   "cell_type": "code",
   "execution_count": 15,
   "metadata": {},
   "outputs": [
    {
     "data": {
      "text/html": [
       "<div>\n",
       "<style scoped>\n",
       "    .dataframe tbody tr th:only-of-type {\n",
       "        vertical-align: middle;\n",
       "    }\n",
       "\n",
       "    .dataframe tbody tr th {\n",
       "        vertical-align: top;\n",
       "    }\n",
       "\n",
       "    .dataframe thead th {\n",
       "        text-align: right;\n",
       "    }\n",
       "</style>\n",
       "<table border=\"1\" class=\"dataframe\">\n",
       "  <thead>\n",
       "    <tr style=\"text-align: right;\">\n",
       "      <th></th>\n",
       "      <th>battery_minutes_remaining</th>\n",
       "      <th>battery_percent_remaining</th>\n",
       "      <th>dt</th>\n",
       "      <th>duration</th>\n",
       "      <th>event_type</th>\n",
       "      <th>system_power_state</th>\n",
       "      <th>ts</th>\n",
       "    </tr>\n",
       "  </thead>\n",
       "  <tbody>\n",
       "    <tr>\n",
       "      <th>0</th>\n",
       "      <td>31.616667</td>\n",
       "      <td>75</td>\n",
       "      <td>2020-04-21</td>\n",
       "      <td>810.408</td>\n",
       "      <td>DC</td>\n",
       "      <td>POWERON</td>\n",
       "      <td>2020-04-21 09:33:26</td>\n",
       "    </tr>\n",
       "    <tr>\n",
       "      <th>1</th>\n",
       "      <td>73.766670</td>\n",
       "      <td>69</td>\n",
       "      <td>2020-04-21</td>\n",
       "      <td>13.573</td>\n",
       "      <td>DC</td>\n",
       "      <td>POWEROFF</td>\n",
       "      <td>2020-04-21 09:46:56</td>\n",
       "    </tr>\n",
       "    <tr>\n",
       "      <th>2</th>\n",
       "      <td>73.766670</td>\n",
       "      <td>69</td>\n",
       "      <td>2020-04-21</td>\n",
       "      <td>173.669</td>\n",
       "      <td>DC</td>\n",
       "      <td>POWERON</td>\n",
       "      <td>2020-04-21 09:47:10</td>\n",
       "    </tr>\n",
       "    <tr>\n",
       "      <th>3</th>\n",
       "      <td>503.700012</td>\n",
       "      <td>67</td>\n",
       "      <td>2020-04-21</td>\n",
       "      <td>38471.500</td>\n",
       "      <td>DC</td>\n",
       "      <td>POWERON</td>\n",
       "      <td>2020-04-21 09:50:03</td>\n",
       "    </tr>\n",
       "    <tr>\n",
       "      <th>4</th>\n",
       "      <td>0.000000</td>\n",
       "      <td>8</td>\n",
       "      <td>2020-04-21</td>\n",
       "      <td>43907.823</td>\n",
       "      <td>DC</td>\n",
       "      <td>POWEROFF</td>\n",
       "      <td>2020-04-21 20:31:15</td>\n",
       "    </tr>\n",
       "  </tbody>\n",
       "</table>\n",
       "</div>"
      ],
      "text/plain": [
       "   battery_minutes_remaining  battery_percent_remaining          dt  \\\n",
       "0                  31.616667                         75  2020-04-21   \n",
       "1                  73.766670                         69  2020-04-21   \n",
       "2                  73.766670                         69  2020-04-21   \n",
       "3                 503.700012                         67  2020-04-21   \n",
       "4                   0.000000                          8  2020-04-21   \n",
       "\n",
       "    duration event_type system_power_state                   ts  \n",
       "0    810.408         DC            POWERON  2020-04-21 09:33:26  \n",
       "1     13.573         DC           POWEROFF  2020-04-21 09:46:56  \n",
       "2    173.669         DC            POWERON  2020-04-21 09:47:10  \n",
       "3  38471.500         DC            POWERON  2020-04-21 09:50:03  \n",
       "4  43907.823         DC           POWEROFF  2020-04-21 20:31:15  "
      ]
     },
     "execution_count": 15,
     "metadata": {},
     "output_type": "execute_result"
    }
   ],
   "source": [
    "batt_acdc_poi = batt_acdc.columns.difference(common_columns)\n",
    "batt_acdc[batt_acdc_poi].head()"
   ]
  },
  {
   "cell_type": "code",
   "execution_count": 16,
   "metadata": {},
   "outputs": [
    {
     "data": {
      "text/html": [
       "<div>\n",
       "<style scoped>\n",
       "    .dataframe tbody tr th:only-of-type {\n",
       "        vertical-align: middle;\n",
       "    }\n",
       "\n",
       "    .dataframe tbody tr th {\n",
       "        vertical-align: top;\n",
       "    }\n",
       "\n",
       "    .dataframe thead th {\n",
       "        text-align: right;\n",
       "    }\n",
       "</style>\n",
       "<table border=\"1\" class=\"dataframe\">\n",
       "  <thead>\n",
       "    <tr style=\"text-align: right;\">\n",
       "      <th></th>\n",
       "      <th>battery_count</th>\n",
       "      <th>battery_enum</th>\n",
       "      <th>chemistry</th>\n",
       "      <th>designed_capacity</th>\n",
       "      <th>dt</th>\n",
       "      <th>full_charge_capacity</th>\n",
       "      <th>ts</th>\n",
       "    </tr>\n",
       "  </thead>\n",
       "  <tbody>\n",
       "    <tr>\n",
       "      <th>0</th>\n",
       "      <td>1</td>\n",
       "      <td>1</td>\n",
       "      <td>LION</td>\n",
       "      <td>43092.0</td>\n",
       "      <td>2020-03-02</td>\n",
       "      <td>43320.0</td>\n",
       "      <td>2020-03-02 12:54:05</td>\n",
       "    </tr>\n",
       "    <tr>\n",
       "      <th>1</th>\n",
       "      <td>1</td>\n",
       "      <td>1</td>\n",
       "      <td>LION</td>\n",
       "      <td>43092.0</td>\n",
       "      <td>2020-03-02</td>\n",
       "      <td>43320.0</td>\n",
       "      <td>2020-03-02 12:57:12</td>\n",
       "    </tr>\n",
       "    <tr>\n",
       "      <th>2</th>\n",
       "      <td>1</td>\n",
       "      <td>-1</td>\n",
       "      <td>NaN</td>\n",
       "      <td>43092.0</td>\n",
       "      <td>2020-03-03</td>\n",
       "      <td>43320.0</td>\n",
       "      <td>2020-03-03 08:09:34</td>\n",
       "    </tr>\n",
       "    <tr>\n",
       "      <th>3</th>\n",
       "      <td>1</td>\n",
       "      <td>1</td>\n",
       "      <td>LION</td>\n",
       "      <td>43092.0</td>\n",
       "      <td>2020-03-03</td>\n",
       "      <td>43320.0</td>\n",
       "      <td>2020-03-03 13:06:26</td>\n",
       "    </tr>\n",
       "    <tr>\n",
       "      <th>4</th>\n",
       "      <td>1</td>\n",
       "      <td>-1</td>\n",
       "      <td>NaN</td>\n",
       "      <td>43092.0</td>\n",
       "      <td>2020-03-03</td>\n",
       "      <td>43320.0</td>\n",
       "      <td>2020-03-03 16:46:17</td>\n",
       "    </tr>\n",
       "  </tbody>\n",
       "</table>\n",
       "</div>"
      ],
      "text/plain": [
       "   battery_count  battery_enum chemistry  designed_capacity          dt  \\\n",
       "0              1             1      LION            43092.0  2020-03-02   \n",
       "1              1             1      LION            43092.0  2020-03-02   \n",
       "2              1            -1       NaN            43092.0  2020-03-03   \n",
       "3              1             1      LION            43092.0  2020-03-03   \n",
       "4              1            -1       NaN            43092.0  2020-03-03   \n",
       "\n",
       "   full_charge_capacity                   ts  \n",
       "0               43320.0  2020-03-02 12:54:05  \n",
       "1               43320.0  2020-03-02 12:57:12  \n",
       "2               43320.0  2020-03-03 08:09:34  \n",
       "3               43320.0  2020-03-03 13:06:26  \n",
       "4               43320.0  2020-03-03 16:46:17  "
      ]
     },
     "execution_count": 16,
     "metadata": {},
     "output_type": "execute_result"
    }
   ],
   "source": [
    "batt_info_poi = batt_info.columns.difference(common_columns)\n",
    "batt_info[batt_info_poi].head()"
   ]
  },
  {
   "cell_type": "markdown",
   "metadata": {},
   "source": [
    "In order to help Dask read our dataset correctly, we’ll need to manually define a schema for our data instead of relying on type inference."
   ]
  },
  {
   "cell_type": "markdown",
   "metadata": {},
   "source": [
    "### Dealing with missing values"
   ]
  },
  {
   "cell_type": "code",
   "execution_count": 17,
   "metadata": {},
   "outputs": [
    {
     "name": "stdout",
     "output_type": "stream",
     "text": [
      "[########################################] | 100% Completed | 26.7s\n"
     ]
    },
    {
     "data": {
      "text/plain": [
       "load_ts                    0.000000\n",
       "batch_id                   0.000000\n",
       "audit_zip                  0.000000\n",
       "audit_internal_path        0.000000\n",
       "guid                       0.000000\n",
       "interval_start_utc         0.000000\n",
       "interval_end_utc           0.000000\n",
       "interval_local_start       0.000000\n",
       "interval_local_end         0.000000\n",
       "event_dt                   0.000000\n",
       "event_ts                   0.000000\n",
       "event_name                 0.000000\n",
       "event_duration_ms          0.000000\n",
       "num_proc_samples           0.000000\n",
       "frgnd_proc_name           11.777160\n",
       "frgnd_proc_dt              0.000000\n",
       "frgnd_proc_ts              0.000000\n",
       "frgnd_proc_duration_ms     0.000000\n",
       "frgnd_proc_pkg            98.686878\n",
       "frgnd_captioned           12.805952\n",
       "frgnd_window_mode         12.805952\n",
       "frgnd_non_responsive       0.000000\n",
       "proc_name                  0.000000\n",
       "proc_cpu_utilization       0.000000\n",
       "dtype: float64"
      ]
     },
     "execution_count": 17,
     "metadata": {},
     "output_type": "execute_result"
    }
   ],
   "source": [
    "#Calculating the percentage of missing values by column\n",
    "missing_values_frgnd_backgrnd = frgnd_backgrnd_apps.isnull().sum()\n",
    "\n",
    "with ProgressBar():\n",
    "    percent_missing_frgnd_backgrnd = ((missing_values_frgnd_backgrnd / frgnd_backgrnd_apps.index.size) * 100).compute()\n",
    "percent_missing_frgnd_backgrnd"
   ]
  },
  {
   "cell_type": "code",
   "execution_count": 18,
   "metadata": {},
   "outputs": [
    {
     "name": "stdout",
     "output_type": "stream",
     "text": [
      "[###                                     ] | 8% Completed |  3min 31.7s"
     ]
    },
    {
     "name": "stderr",
     "output_type": "stream",
     "text": [
      "b'Skipping line 169363: expected 16 fields, saw 19\\nSkipping line 169364: expected 16 fields, saw 19\\nSkipping line 169434: expected 16 fields, saw 19\\nSkipping line 169435: expected 16 fields, saw 19\\nSkipping line 169504: expected 16 fields, saw 19\\nSkipping line 169505: expected 16 fields, saw 19\\nSkipping line 169579: expected 16 fields, saw 19\\nSkipping line 169580: expected 16 fields, saw 19\\nSkipping line 169630: expected 16 fields, saw 19\\nSkipping line 169631: expected 16 fields, saw 19\\nSkipping line 169701: expected 16 fields, saw 19\\nSkipping line 169702: expected 16 fields, saw 19\\nSkipping line 169771: expected 16 fields, saw 19\\nSkipping line 169772: expected 16 fields, saw 19\\nSkipping line 169845: expected 16 fields, saw 19\\nSkipping line 169846: expected 16 fields, saw 19\\nSkipping line 169914: expected 16 fields, saw 19\\nSkipping line 169916: expected 16 fields, saw 19\\nSkipping line 169965: expected 16 fields, saw 19\\nSkipping line 169966: expected 16 fields, saw 19\\nSkipping line 170036: expected 16 fields, saw 19\\nSkipping line 170037: expected 16 fields, saw 19\\nSkipping line 170100: expected 16 fields, saw 19\\nSkipping line 170101: expected 16 fields, saw 19\\nSkipping line 170172: expected 16 fields, saw 19\\nSkipping line 170173: expected 16 fields, saw 19\\nSkipping line 170242: expected 16 fields, saw 19\\nSkipping line 170243: expected 16 fields, saw 19\\nSkipping line 170312: expected 16 fields, saw 19\\nSkipping line 170313: expected 16 fields, saw 19\\nSkipping line 170392: expected 16 fields, saw 19\\nSkipping line 170394: expected 16 fields, saw 19\\nSkipping line 170450: expected 16 fields, saw 19\\nSkipping line 170452: expected 16 fields, saw 19\\nSkipping line 170498: expected 16 fields, saw 19\\nSkipping line 170499: expected 16 fields, saw 19\\n'\n"
     ]
    },
    {
     "name": "stdout",
     "output_type": "stream",
     "text": [
      "[#######                                 ] | 19% Completed |  7min 47.7s"
     ]
    },
    {
     "name": "stderr",
     "output_type": "stream",
     "text": [
      "b'Skipping line 149688: expected 16 fields, saw 19\\nSkipping line 149689: expected 16 fields, saw 19\\nSkipping line 149754: expected 16 fields, saw 19\\nSkipping line 149755: expected 16 fields, saw 19\\nSkipping line 149797: expected 16 fields, saw 19\\nSkipping line 149798: expected 16 fields, saw 19\\nSkipping line 149839: expected 16 fields, saw 19\\nSkipping line 149840: expected 16 fields, saw 19\\nSkipping line 149903: expected 16 fields, saw 19\\nSkipping line 149904: expected 16 fields, saw 19\\nSkipping line 149966: expected 16 fields, saw 19\\nSkipping line 149967: expected 16 fields, saw 19\\nSkipping line 150030: expected 16 fields, saw 19\\nSkipping line 150031: expected 16 fields, saw 19\\nSkipping line 150093: expected 16 fields, saw 19\\nSkipping line 150094: expected 16 fields, saw 19\\nSkipping line 150157: expected 16 fields, saw 19\\nSkipping line 150158: expected 16 fields, saw 19\\nSkipping line 150199: expected 16 fields, saw 19\\nSkipping line 150200: expected 16 fields, saw 19\\nSkipping line 150263: expected 16 fields, saw 19\\nSkipping line 150264: expected 16 fields, saw 19\\nSkipping line 150343: expected 16 fields, saw 19\\nSkipping line 150345: expected 16 fields, saw 19\\nSkipping line 150388: expected 16 fields, saw 19\\nSkipping line 150389: expected 16 fields, saw 19\\nSkipping line 150473: expected 16 fields, saw 19\\nSkipping line 150474: expected 16 fields, saw 19\\nSkipping line 150516: expected 16 fields, saw 19\\nSkipping line 150517: expected 16 fields, saw 19\\nSkipping line 150584: expected 16 fields, saw 19\\nSkipping line 150586: expected 16 fields, saw 19\\nSkipping line 150628: expected 16 fields, saw 19\\nSkipping line 150629: expected 16 fields, saw 19\\nSkipping line 150696: expected 16 fields, saw 19\\nSkipping line 150698: expected 16 fields, saw 19\\nSkipping line 150740: expected 16 fields, saw 19\\nSkipping line 150741: expected 16 fields, saw 19\\nSkipping line 150820: expected 16 fields, saw 19\\nSkipping line 150822: expected 16 fields, saw 19\\nSkipping line 150868: expected 16 fields, saw 19\\nSkipping line 150869: expected 16 fields, saw 19\\nSkipping line 150934: expected 16 fields, saw 19\\nSkipping line 150936: expected 16 fields, saw 19\\nSkipping line 150978: expected 16 fields, saw 19\\nSkipping line 150979: expected 16 fields, saw 19\\nSkipping line 151041: expected 16 fields, saw 19\\nSkipping line 151042: expected 16 fields, saw 19\\nSkipping line 151104: expected 16 fields, saw 19\\nSkipping line 151105: expected 16 fields, saw 19\\nSkipping line 151168: expected 16 fields, saw 19\\nSkipping line 151169: expected 16 fields, saw 19\\nSkipping line 151232: expected 16 fields, saw 19\\nSkipping line 151233: expected 16 fields, saw 19\\nSkipping line 151274: expected 16 fields, saw 19\\nSkipping line 151275: expected 16 fields, saw 19\\nSkipping line 151342: expected 16 fields, saw 19\\nSkipping line 151344: expected 16 fields, saw 19\\nSkipping line 151386: expected 16 fields, saw 19\\nSkipping line 151387: expected 16 fields, saw 19\\nSkipping line 151450: expected 16 fields, saw 19\\nSkipping line 151451: expected 16 fields, saw 19\\nSkipping line 151514: expected 16 fields, saw 19\\nSkipping line 151515: expected 16 fields, saw 19\\nSkipping line 151600: expected 16 fields, saw 19\\nSkipping line 151601: expected 16 fields, saw 19\\nSkipping line 151643: expected 16 fields, saw 19\\nSkipping line 151644: expected 16 fields, saw 19\\nSkipping line 151701: expected 16 fields, saw 19\\nSkipping line 151703: expected 16 fields, saw 19\\nSkipping line 151759: expected 16 fields, saw 19\\nSkipping line 151760: expected 16 fields, saw 19\\nSkipping line 151806: expected 16 fields, saw 19\\nSkipping line 151808: expected 16 fields, saw 19\\nSkipping line 151854: expected 16 fields, saw 19\\nSkipping line 151856: expected 16 fields, saw 19\\nSkipping line 151899: expected 16 fields, saw 19\\nSkipping line 151900: expected 16 fields, saw 19\\n'\n"
     ]
    },
    {
     "name": "stdout",
     "output_type": "stream",
     "text": [
      "[#############                           ] | 34% Completed | 14min  2.0s"
     ]
    },
    {
     "name": "stderr",
     "output_type": "stream",
     "text": [
      "b'Skipping line 9497: expected 16 fields, saw 19\\nSkipping line 9498: expected 16 fields, saw 19\\nSkipping line 9562: expected 16 fields, saw 19\\nSkipping line 9563: expected 16 fields, saw 19\\nSkipping line 9626: expected 16 fields, saw 19\\nSkipping line 9627: expected 16 fields, saw 19\\nSkipping line 9668: expected 16 fields, saw 19\\nSkipping line 9669: expected 16 fields, saw 19\\nSkipping line 9734: expected 16 fields, saw 19\\nSkipping line 9735: expected 16 fields, saw 19\\nSkipping line 9799: expected 16 fields, saw 19\\nSkipping line 9800: expected 16 fields, saw 19\\nSkipping line 9862: expected 16 fields, saw 19\\nSkipping line 9863: expected 16 fields, saw 19\\nSkipping line 9926: expected 16 fields, saw 19\\nSkipping line 9927: expected 16 fields, saw 19\\nSkipping line 9967: expected 16 fields, saw 19\\nSkipping line 9968: expected 16 fields, saw 19\\nSkipping line 10031: expected 16 fields, saw 19\\nSkipping line 10032: expected 16 fields, saw 19\\nSkipping line 10094: expected 16 fields, saw 19\\nSkipping line 10095: expected 16 fields, saw 19\\nSkipping line 10157: expected 16 fields, saw 19\\nSkipping line 10158: expected 16 fields, saw 19\\nSkipping line 10223: expected 16 fields, saw 19\\nSkipping line 10224: expected 16 fields, saw 19\\nSkipping line 10286: expected 16 fields, saw 19\\nSkipping line 10287: expected 16 fields, saw 19\\nSkipping line 10349: expected 16 fields, saw 19\\nSkipping line 10350: expected 16 fields, saw 19\\nSkipping line 10412: expected 16 fields, saw 19\\nSkipping line 10413: expected 16 fields, saw 19\\nSkipping line 10476: expected 16 fields, saw 19\\nSkipping line 10477: expected 16 fields, saw 19\\nSkipping line 10519: expected 16 fields, saw 19\\nSkipping line 10520: expected 16 fields, saw 19\\nSkipping line 10584: expected 16 fields, saw 19\\nSkipping line 10585: expected 16 fields, saw 19\\nSkipping line 10648: expected 16 fields, saw 19\\nSkipping line 10649: expected 16 fields, saw 19\\nSkipping line 10711: expected 16 fields, saw 19\\nSkipping line 10712: expected 16 fields, saw 19\\nSkipping line 10778: expected 16 fields, saw 19\\nSkipping line 10780: expected 16 fields, saw 19\\nSkipping line 10822: expected 16 fields, saw 19\\nSkipping line 10823: expected 16 fields, saw 19\\nSkipping line 10886: expected 16 fields, saw 19\\nSkipping line 10887: expected 16 fields, saw 19\\nSkipping line 10950: expected 16 fields, saw 19\\nSkipping line 10951: expected 16 fields, saw 19\\nSkipping line 11014: expected 16 fields, saw 19\\nSkipping line 11015: expected 16 fields, saw 19\\nSkipping line 11080: expected 16 fields, saw 19\\nSkipping line 11081: expected 16 fields, saw 19\\nSkipping line 11144: expected 16 fields, saw 19\\nSkipping line 11145: expected 16 fields, saw 19\\nSkipping line 11209: expected 16 fields, saw 19\\nSkipping line 11210: expected 16 fields, saw 19\\nSkipping line 11268: expected 16 fields, saw 19\\nSkipping line 11269: expected 16 fields, saw 19\\n'\n"
     ]
    },
    {
     "name": "stdout",
     "output_type": "stream",
     "text": [
      "[########################                ] | 62% Completed | 25min 21.4s"
     ]
    },
    {
     "name": "stderr",
     "output_type": "stream",
     "text": [
      "b'Skipping line 101812: expected 16 fields, saw 17\\n'\n"
     ]
    },
    {
     "name": "stdout",
     "output_type": "stream",
     "text": [
      "[########################################] | 100% Completed | 40min 37.3s\n"
     ]
    },
    {
     "data": {
      "text/plain": [
       "load_ts                 0.000000\n",
       "batch_id                0.000000\n",
       "audit_zip               0.000000\n",
       "audit_internal_path     0.000000\n",
       "guid                    0.000000\n",
       "interval_start_utc      0.000000\n",
       "interval_end_utc        0.000000\n",
       "interval_local_start    0.000000\n",
       "interval_local_end      0.000000\n",
       "ts                      0.000000\n",
       "dt                      0.000000\n",
       "device                  0.000009\n",
       "hw_name                 0.002434\n",
       "name                    0.405555\n",
       "duration                0.000000\n",
       "status                  0.000000\n",
       "dtype: float64"
      ]
     },
     "execution_count": 18,
     "metadata": {},
     "output_type": "execute_result"
    }
   ],
   "source": [
    "missing_values_devuse1 = devuse1.isnull().sum()\n",
    "\n",
    "with ProgressBar():\n",
    "    percent_missing_devuse1 = ((missing_values_devuse1 / devuse1.index.size) * 100).compute()\n",
    "percent_missing_devuse1"
   ]
  },
  {
   "cell_type": "code",
   "execution_count": 19,
   "metadata": {},
   "outputs": [
    {
     "name": "stdout",
     "output_type": "stream",
     "text": [
      "[###############                         ] | 38% Completed |  8min 39.1s"
     ]
    },
    {
     "name": "stderr",
     "output_type": "stream",
     "text": [
      "b'Skipping line 88364: expected 16 fields, saw 17\\n'\n"
     ]
    },
    {
     "name": "stdout",
     "output_type": "stream",
     "text": [
      "[#################                       ] | 43% Completed |  9min 45.3s"
     ]
    },
    {
     "name": "stderr",
     "output_type": "stream",
     "text": [
      "b'Skipping line 37400: expected 16 fields, saw 19\\nSkipping line 37401: expected 16 fields, saw 19\\nSkipping line 37453: expected 16 fields, saw 19\\nSkipping line 37454: expected 16 fields, saw 19\\nSkipping line 37503: expected 16 fields, saw 19\\nSkipping line 37504: expected 16 fields, saw 19\\nSkipping line 37598: expected 16 fields, saw 19\\nSkipping line 37599: expected 16 fields, saw 19\\nSkipping line 37684: expected 16 fields, saw 19\\nSkipping line 37686: expected 16 fields, saw 19\\nSkipping line 37723: expected 16 fields, saw 19\\nSkipping line 37725: expected 16 fields, saw 19\\nSkipping line 37759: expected 16 fields, saw 19\\nSkipping line 37760: expected 16 fields, saw 19\\nSkipping line 37798: expected 16 fields, saw 19\\nSkipping line 37800: expected 16 fields, saw 19\\nSkipping line 37881: expected 16 fields, saw 19\\nSkipping line 37882: expected 16 fields, saw 19\\nSkipping line 37911: expected 16 fields, saw 19\\nSkipping line 37912: expected 16 fields, saw 19\\nSkipping line 37938: expected 16 fields, saw 19\\nSkipping line 37939: expected 16 fields, saw 19\\nSkipping line 38002: expected 16 fields, saw 19\\nSkipping line 38003: expected 16 fields, saw 19\\nSkipping line 38087: expected 16 fields, saw 19\\nSkipping line 38088: expected 16 fields, saw 19\\n'\n"
     ]
    },
    {
     "name": "stdout",
     "output_type": "stream",
     "text": [
      "[#################                       ] | 43% Completed |  9min 46.1s"
     ]
    },
    {
     "name": "stderr",
     "output_type": "stream",
     "text": [
      "b'Skipping line 81548: expected 16 fields, saw 19\\nSkipping line 81549: expected 16 fields, saw 19\\nSkipping line 81583: expected 16 fields, saw 19\\nSkipping line 81584: expected 16 fields, saw 19\\nSkipping line 81677: expected 16 fields, saw 19\\nSkipping line 81678: expected 16 fields, saw 19\\nSkipping line 81708: expected 16 fields, saw 19\\nSkipping line 81709: expected 16 fields, saw 19\\nSkipping line 81816: expected 16 fields, saw 19\\nSkipping line 81817: expected 16 fields, saw 19\\nSkipping line 81920: expected 16 fields, saw 19\\nSkipping line 81921: expected 16 fields, saw 19\\nSkipping line 81978: expected 16 fields, saw 19\\nSkipping line 81979: expected 16 fields, saw 19\\nSkipping line 82010: expected 16 fields, saw 19\\nSkipping line 82011: expected 16 fields, saw 19\\nSkipping line 82104: expected 16 fields, saw 19\\nSkipping line 82105: expected 16 fields, saw 19\\nSkipping line 82140: expected 16 fields, saw 19\\nSkipping line 82141: expected 16 fields, saw 19\\nSkipping line 82204: expected 16 fields, saw 19\\nSkipping line 82205: expected 16 fields, saw 19\\nSkipping line 82235: expected 16 fields, saw 19\\nSkipping line 82236: expected 16 fields, saw 19\\nSkipping line 82308: expected 16 fields, saw 19\\nSkipping line 82309: expected 16 fields, saw 19\\nSkipping line 82351: expected 16 fields, saw 19\\nSkipping line 82352: expected 16 fields, saw 19\\nSkipping line 82380: expected 16 fields, saw 19\\nSkipping line 82381: expected 16 fields, saw 19\\nSkipping line 82440: expected 16 fields, saw 19\\nSkipping line 82441: expected 16 fields, saw 19\\nSkipping line 82486: expected 16 fields, saw 19\\nSkipping line 82487: expected 16 fields, saw 19\\nSkipping line 82518: expected 16 fields, saw 19\\nSkipping line 82519: expected 16 fields, saw 19\\nSkipping line 82546: expected 16 fields, saw 19\\nSkipping line 82547: expected 16 fields, saw 19\\nSkipping line 82597: expected 16 fields, saw 19\\nSkipping line 82598: expected 16 fields, saw 19\\nSkipping line 82648: expected 16 fields, saw 19\\nSkipping line 82650: expected 16 fields, saw 19\\nSkipping line 82786: expected 16 fields, saw 19\\nSkipping line 82787: expected 16 fields, saw 19\\nSkipping line 82876: expected 16 fields, saw 19\\nSkipping line 82878: expected 16 fields, saw 19\\nSkipping line 83103: expected 16 fields, saw 19\\nSkipping line 83104: expected 16 fields, saw 19\\nSkipping line 83136: expected 16 fields, saw 19\\nSkipping line 83137: expected 16 fields, saw 19\\nSkipping line 83328: expected 16 fields, saw 19\\nSkipping line 83329: expected 16 fields, saw 19\\nSkipping line 83429: expected 16 fields, saw 19\\nSkipping line 83430: expected 16 fields, saw 19\\nSkipping line 83457: expected 16 fields, saw 19\\nSkipping line 83458: expected 16 fields, saw 19\\nSkipping line 83511: expected 16 fields, saw 19\\nSkipping line 83512: expected 16 fields, saw 19\\n'\n"
     ]
    },
    {
     "name": "stdout",
     "output_type": "stream",
     "text": [
      "[#################                       ] | 43% Completed |  9min 46.9s"
     ]
    },
    {
     "name": "stderr",
     "output_type": "stream",
     "text": [
      "b'Skipping line 123398: expected 16 fields, saw 19\\nSkipping line 123399: expected 16 fields, saw 19\\nSkipping line 123454: expected 16 fields, saw 19\\nSkipping line 123455: expected 16 fields, saw 19\\nSkipping line 123546: expected 16 fields, saw 19\\nSkipping line 123547: expected 16 fields, saw 19\\nSkipping line 123598: expected 16 fields, saw 19\\nSkipping line 123599: expected 16 fields, saw 19\\nSkipping line 123670: expected 16 fields, saw 19\\nSkipping line 123671: expected 16 fields, saw 19\\nSkipping line 123721: expected 16 fields, saw 19\\nSkipping line 123723: expected 16 fields, saw 19\\nSkipping line 123749: expected 16 fields, saw 19\\nSkipping line 123750: expected 16 fields, saw 19\\nSkipping line 123826: expected 16 fields, saw 19\\nSkipping line 123827: expected 16 fields, saw 19\\nSkipping line 123874: expected 16 fields, saw 19\\nSkipping line 123875: expected 16 fields, saw 19\\nSkipping line 123922: expected 16 fields, saw 19\\nSkipping line 123924: expected 16 fields, saw 19\\nSkipping line 123975: expected 16 fields, saw 19\\nSkipping line 123976: expected 16 fields, saw 19\\nSkipping line 124029: expected 16 fields, saw 19\\nSkipping line 124030: expected 16 fields, saw 19\\nSkipping line 124113: expected 16 fields, saw 19\\nSkipping line 124114: expected 16 fields, saw 19\\n'\n"
     ]
    },
    {
     "name": "stdout",
     "output_type": "stream",
     "text": [
      "[########################################] | 100% Completed | 22min  5.6s\n"
     ]
    },
    {
     "data": {
      "text/plain": [
       "load_ts                 0.000000e+00\n",
       "batch_id                0.000000e+00\n",
       "audit_zip               0.000000e+00\n",
       "audit_internal_path     0.000000e+00\n",
       "guid                    0.000000e+00\n",
       "interval_start_utc      0.000000e+00\n",
       "interval_end_utc        0.000000e+00\n",
       "interval_local_start    0.000000e+00\n",
       "interval_local_end      0.000000e+00\n",
       "ts                      0.000000e+00\n",
       "dt                      0.000000e+00\n",
       "device                  2.430506e-05\n",
       "hw_name                 2.242839e-03\n",
       "name                    4.210620e-01\n",
       "duration                3.984435e-07\n",
       "status                  0.000000e+00\n",
       "dtype: float64"
      ]
     },
     "execution_count": 19,
     "metadata": {},
     "output_type": "execute_result"
    }
   ],
   "source": [
    "missing_values_devuse2 = devuse2.isnull().sum()\n",
    "\n",
    "with ProgressBar():\n",
    "    percent_missing_devuse2 = ((missing_values_devuse2 / devuse2.index.size) * 100).compute()\n",
    "percent_missing_devuse2"
   ]
  },
  {
   "cell_type": "code",
   "execution_count": 20,
   "metadata": {},
   "outputs": [
    {
     "name": "stdout",
     "output_type": "stream",
     "text": [
      "[########################################] | 100% Completed | 10min  3.7s\n"
     ]
    },
    {
     "data": {
      "text/plain": [
       "load_ts                      0.0\n",
       "batch_id                     0.0\n",
       "audit_zip                    0.0\n",
       "audit_internal_path          0.0\n",
       "guid                         0.0\n",
       "interval_start_utc           0.0\n",
       "interval_end_utc             0.0\n",
       "interval_local_start         0.0\n",
       "interval_local_end           0.0\n",
       "ts                           0.0\n",
       "dt                           0.0\n",
       "system_power_state           0.0\n",
       "event_type                   0.0\n",
       "duration                     0.0\n",
       "battery_percent_remaining    0.0\n",
       "battery_minutes_remaining    0.0\n",
       "dtype: float64"
      ]
     },
     "execution_count": 20,
     "metadata": {},
     "output_type": "execute_result"
    }
   ],
   "source": [
    "missing_values_batt_acdc = batt_acdc.isnull().sum()\n",
    "\n",
    "with ProgressBar():\n",
    "    percent_missing_batt_acdc = ((missing_values_batt_acdc / batt_acdc.index.size) * 100).compute()\n",
    "percent_missing_batt_acdc"
   ]
  },
  {
   "cell_type": "code",
   "execution_count": 21,
   "metadata": {},
   "outputs": [
    {
     "name": "stdout",
     "output_type": "stream",
     "text": [
      "[########################################] | 100% Completed | 11min 50.6s\n"
     ]
    },
    {
     "data": {
      "text/plain": [
       "load_ts                      0.0\n",
       "batch_id                     0.0\n",
       "audit_zip                    0.0\n",
       "audit_internal_path          0.0\n",
       "guid                         0.0\n",
       "interval_start_utc           0.0\n",
       "interval_end_utc             0.0\n",
       "interval_local_start         0.0\n",
       "interval_local_end           0.0\n",
       "ts                           0.0\n",
       "dt                           0.0\n",
       "system_power_state           0.0\n",
       "event_type                   0.0\n",
       "duration                     0.0\n",
       "battery_percent_remaining    0.0\n",
       "battery_minutes_remaining    0.0\n",
       "dtype: float64"
      ]
     },
     "execution_count": 21,
     "metadata": {},
     "output_type": "execute_result"
    }
   ],
   "source": [
    "missing_values_batt_info = batt_acdc.isnull().sum()\n",
    "\n",
    "with ProgressBar():\n",
    "    percent_missing_batt_info = ((missing_values_batt_info / batt_info.index.size) * 100).compute()\n",
    "percent_missing_batt_info"
   ]
  },
  {
   "cell_type": "markdown",
   "metadata": {},
   "source": [
    "###  DROPPING COLUMNS WITH MISSING VALUES"
   ]
  },
  {
   "cell_type": "markdown",
   "metadata": {},
   "source": [
    "Now that we know what we have to work with, we’ll start by dropping any columns that most of their values missing.\n",
    "We don’t likely stand to gain much information by keeping such a sparse column around, so we’ll remove it from our dataset."
   ]
  },
  {
   "cell_type": "code",
   "execution_count": 22,
   "metadata": {},
   "outputs": [],
   "source": [
    "#Dropping columns that have more than 90% missing values\n",
    "columns_to_drop_frgnd_backgrnd = list(percent_missing_frgnd_backgrnd[percent_missing_frgnd_backgrnd >= 90].index)\n",
    "frgnd_backgrnd_clean_stage1 = frgnd_backgrnd_apps.drop(columns_to_drop_frgnd_backgrnd, axis=1)"
   ]
  },
  {
   "cell_type": "code",
   "execution_count": 23,
   "metadata": {},
   "outputs": [
    {
     "data": {
      "text/plain": [
       "['frgnd_proc_pkg']"
      ]
     },
     "execution_count": 23,
     "metadata": {},
     "output_type": "execute_result"
    }
   ],
   "source": [
    "columns_to_drop_frgnd_backgrnd"
   ]
  },
  {
   "cell_type": "code",
   "execution_count": 24,
   "metadata": {},
   "outputs": [],
   "source": [
    "#Dropping columns that have more than 90% missing values\n",
    "columns_to_drop_devuse1 = list(percent_missing_devuse1[percent_missing_devuse1 >= 90].index)\n",
    "devuse1_clean_stage1 = devuse1.drop(columns_to_drop_devuse1, axis=1)"
   ]
  },
  {
   "cell_type": "code",
   "execution_count": 25,
   "metadata": {},
   "outputs": [
    {
     "data": {
      "text/plain": [
       "[]"
      ]
     },
     "execution_count": 25,
     "metadata": {},
     "output_type": "execute_result"
    }
   ],
   "source": [
    "columns_to_drop_devuse1"
   ]
  },
  {
   "cell_type": "code",
   "execution_count": 26,
   "metadata": {},
   "outputs": [],
   "source": [
    "#Dropping columns that have more than 90% missing values\n",
    "columns_to_drop_devuse2 = list(percent_missing_devuse2[percent_missing_devuse2 >= 90].index)\n",
    "devuse2_clean_stage1 = devuse2.drop(columns_to_drop_devuse2, axis=1)"
   ]
  },
  {
   "cell_type": "code",
   "execution_count": 27,
   "metadata": {},
   "outputs": [
    {
     "data": {
      "text/plain": [
       "[]"
      ]
     },
     "execution_count": 27,
     "metadata": {},
     "output_type": "execute_result"
    }
   ],
   "source": [
    "columns_to_drop_devuse2"
   ]
  },
  {
   "cell_type": "code",
   "execution_count": 28,
   "metadata": {},
   "outputs": [],
   "source": [
    "#Dropping columns that have more than 90% missing values\n",
    "columns_to_drop_batt_acdc = list(percent_missing_batt_acdc[percent_missing_batt_acdc>= 90].index)\n",
    "batt_acdc_clean_stage1 = batt_acdc.drop(columns_to_drop_batt_acdc, axis=1)"
   ]
  },
  {
   "cell_type": "code",
   "execution_count": 29,
   "metadata": {},
   "outputs": [
    {
     "data": {
      "text/plain": [
       "[]"
      ]
     },
     "execution_count": 29,
     "metadata": {},
     "output_type": "execute_result"
    }
   ],
   "source": [
    "columns_to_drop_batt_acdc"
   ]
  },
  {
   "cell_type": "code",
   "execution_count": 30,
   "metadata": {},
   "outputs": [],
   "source": [
    "#Dropping columns that have more than 90% missing values\n",
    "columns_to_drop_batt_info = list(percent_missing_batt_info[percent_missing_batt_info >= 90].index)\n",
    "batt_info_clean_stage1 = batt_info.drop(columns_to_drop_batt_info, axis=1)"
   ]
  },
  {
   "cell_type": "code",
   "execution_count": 31,
   "metadata": {},
   "outputs": [
    {
     "data": {
      "text/plain": [
       "[]"
      ]
     },
     "execution_count": 31,
     "metadata": {},
     "output_type": "execute_result"
    }
   ],
   "source": [
    "columns_to_drop_batt_info"
   ]
  },
  {
   "cell_type": "markdown",
   "metadata": {},
   "source": [
    "## DROPPING ROWS WITH MISSING DATA"
   ]
  },
  {
   "cell_type": "code",
   "execution_count": 32,
   "metadata": {},
   "outputs": [],
   "source": [
    "#Dropping rows with missing data\n",
    "frgnd_backgrnd_rows_to_drop = list(percent_missing_frgnd_backgrnd[(percent_missing_frgnd_backgrnd > 0) & (percent_missing_frgnd_backgrnd < 5)].index)\n",
    "frgnd_backgrnd_clean_stage2 = frgnd_backgrnd_clean_stage1.dropna(subset=frgnd_backgrnd_rows_to_drop)"
   ]
  },
  {
   "cell_type": "code",
   "execution_count": 33,
   "metadata": {},
   "outputs": [
    {
     "data": {
      "text/plain": [
       "[]"
      ]
     },
     "execution_count": 33,
     "metadata": {},
     "output_type": "execute_result"
    }
   ],
   "source": [
    "frgnd_backgrnd_rows_to_drop"
   ]
  },
  {
   "cell_type": "code",
   "execution_count": 34,
   "metadata": {},
   "outputs": [],
   "source": [
    "#Dropping rows with missing data\n",
    "devuse1_rows_to_drop = list(percent_missing_devuse1[(percent_missing_devuse1 > 0) & (percent_missing_devuse1 < 5)].index)\n",
    "devuse1_clean_stage2 = devuse1_clean_stage1.dropna(subset=devuse1_rows_to_drop)"
   ]
  },
  {
   "cell_type": "code",
   "execution_count": 35,
   "metadata": {},
   "outputs": [
    {
     "data": {
      "text/plain": [
       "['device', 'hw_name', 'name']"
      ]
     },
     "execution_count": 35,
     "metadata": {},
     "output_type": "execute_result"
    }
   ],
   "source": [
    "devuse1_rows_to_drop"
   ]
  },
  {
   "cell_type": "code",
   "execution_count": 36,
   "metadata": {},
   "outputs": [],
   "source": [
    "#Dropping rows with missing data\n",
    "devuse2_rows_to_drop = list(percent_missing_devuse1[(percent_missing_devuse2 > 0) & (percent_missing_devuse2 < 5)].index)\n",
    "devuse2_clean_stage2 = devuse2_clean_stage1.dropna(subset=devuse2_rows_to_drop)"
   ]
  },
  {
   "cell_type": "code",
   "execution_count": 37,
   "metadata": {},
   "outputs": [
    {
     "data": {
      "text/plain": [
       "['device', 'hw_name', 'name', 'duration']"
      ]
     },
     "execution_count": 37,
     "metadata": {},
     "output_type": "execute_result"
    }
   ],
   "source": [
    "devuse2_rows_to_drop"
   ]
  },
  {
   "cell_type": "code",
   "execution_count": 38,
   "metadata": {},
   "outputs": [],
   "source": [
    "#Finding the datatypes of the remaining columns that contain missing value\n",
    "remaining_columns_to_clean = list(percent_missing_frgnd_backgrnd[(percent_missing_frgnd_backgrnd >= 5)].index)\n",
    "#frgnd_backgrnd_clean_stage2.dtypes[remaining_columns_to_clean]"
   ]
  },
  {
   "cell_type": "code",
   "execution_count": 39,
   "metadata": {},
   "outputs": [
    {
     "data": {
      "text/plain": [
       "['frgnd_proc_name', 'frgnd_proc_pkg', 'frgnd_captioned', 'frgnd_window_mode']"
      ]
     },
     "execution_count": 39,
     "metadata": {},
     "output_type": "execute_result"
    }
   ],
   "source": [
    "remaining_columns_to_clean"
   ]
  },
  {
   "cell_type": "markdown",
   "metadata": {},
   "source": [
    "### Parse Date"
   ]
  },
  {
   "cell_type": "code",
   "execution_count": 40,
   "metadata": {},
   "outputs": [
    {
     "data": {
      "text/plain": [
       "Index(['event_dt', 'event_duration_ms', 'event_name', 'event_ts',\n",
       "       'frgnd_captioned', 'frgnd_non_responsive', 'frgnd_proc_dt',\n",
       "       'frgnd_proc_duration_ms', 'frgnd_proc_name', 'frgnd_proc_ts',\n",
       "       'frgnd_window_mode', 'num_proc_samples', 'proc_cpu_utilization',\n",
       "       'proc_name'],\n",
       "      dtype='object')"
      ]
     },
     "execution_count": 40,
     "metadata": {},
     "output_type": "execute_result"
    }
   ],
   "source": [
    "frgnd_backgrnd_apps_poi=frgnd_backgrnd_clean_stage2.columns.difference(common_columns)\n",
    "frgnd_backgrnd_apps_poi"
   ]
  },
  {
   "cell_type": "code",
   "execution_count": 41,
   "metadata": {},
   "outputs": [
    {
     "data": {
      "text/html": [
       "<div>\n",
       "<style scoped>\n",
       "    .dataframe tbody tr th:only-of-type {\n",
       "        vertical-align: middle;\n",
       "    }\n",
       "\n",
       "    .dataframe tbody tr th {\n",
       "        vertical-align: top;\n",
       "    }\n",
       "\n",
       "    .dataframe thead th {\n",
       "        text-align: right;\n",
       "    }\n",
       "</style>\n",
       "<table border=\"1\" class=\"dataframe\">\n",
       "  <thead>\n",
       "    <tr style=\"text-align: right;\">\n",
       "      <th></th>\n",
       "      <th>event_dt</th>\n",
       "      <th>event_duration_ms</th>\n",
       "      <th>event_name</th>\n",
       "      <th>event_ts</th>\n",
       "      <th>frgnd_captioned</th>\n",
       "      <th>frgnd_non_responsive</th>\n",
       "      <th>frgnd_proc_dt</th>\n",
       "      <th>frgnd_proc_duration_ms</th>\n",
       "      <th>frgnd_proc_name</th>\n",
       "      <th>frgnd_proc_ts</th>\n",
       "      <th>frgnd_window_mode</th>\n",
       "      <th>num_proc_samples</th>\n",
       "      <th>proc_cpu_utilization</th>\n",
       "      <th>proc_name</th>\n",
       "    </tr>\n",
       "  </thead>\n",
       "  <tbody>\n",
       "    <tr>\n",
       "      <th>0</th>\n",
       "      <td>2020-10-09</td>\n",
       "      <td>156317</td>\n",
       "      <td>DC_DISPLAY_OFF</td>\n",
       "      <td>2020-10-09 22:00:25.561</td>\n",
       "      <td>NaN</td>\n",
       "      <td>f</td>\n",
       "      <td>2020-10-09</td>\n",
       "      <td>0</td>\n",
       "      <td>NaN</td>\n",
       "      <td>2020-10-09 22:00:25.561</td>\n",
       "      <td>NaN</td>\n",
       "      <td>16</td>\n",
       "      <td>0.12</td>\n",
       "      <td>DSATray.exe</td>\n",
       "    </tr>\n",
       "    <tr>\n",
       "      <th>1</th>\n",
       "      <td>2020-10-09</td>\n",
       "      <td>5203164</td>\n",
       "      <td>DC_DISPLAY_ON</td>\n",
       "      <td>2020-10-09 22:03:01.879</td>\n",
       "      <td>c1</td>\n",
       "      <td>f</td>\n",
       "      <td>2020-10-09</td>\n",
       "      <td>802973</td>\n",
       "      <td>chrome.exe</td>\n",
       "      <td>2020-10-09 22:28:43.737</td>\n",
       "      <td>W</td>\n",
       "      <td>80</td>\n",
       "      <td>0.39</td>\n",
       "      <td>GameScannerService.exe</td>\n",
       "    </tr>\n",
       "    <tr>\n",
       "      <th>2</th>\n",
       "      <td>2020-10-09</td>\n",
       "      <td>5203164</td>\n",
       "      <td>DC_DISPLAY_ON</td>\n",
       "      <td>2020-10-09 22:03:01.879</td>\n",
       "      <td>c1</td>\n",
       "      <td>f</td>\n",
       "      <td>2020-10-09</td>\n",
       "      <td>2343497</td>\n",
       "      <td>chrome.exe</td>\n",
       "      <td>2020-10-09 22:50:41.24</td>\n",
       "      <td>W</td>\n",
       "      <td>234</td>\n",
       "      <td>0.85</td>\n",
       "      <td>GameScannerService.exe</td>\n",
       "    </tr>\n",
       "    <tr>\n",
       "      <th>3</th>\n",
       "      <td>2020-10-09</td>\n",
       "      <td>4773068</td>\n",
       "      <td>DC_DISPLAY_ON</td>\n",
       "      <td>2020-10-09 20:14:48.094</td>\n",
       "      <td>NaN</td>\n",
       "      <td>f</td>\n",
       "      <td>2020-10-09</td>\n",
       "      <td>0</td>\n",
       "      <td>NaN</td>\n",
       "      <td>2020-10-09 20:14:48.094</td>\n",
       "      <td>NaN</td>\n",
       "      <td>478</td>\n",
       "      <td>1.12</td>\n",
       "      <td>MoUsoCoreWorker.exe</td>\n",
       "    </tr>\n",
       "    <tr>\n",
       "      <th>4</th>\n",
       "      <td>2020-10-09</td>\n",
       "      <td>5203164</td>\n",
       "      <td>DC_DISPLAY_ON</td>\n",
       "      <td>2020-10-09 22:03:01.879</td>\n",
       "      <td>c1</td>\n",
       "      <td>f</td>\n",
       "      <td>2020-10-09</td>\n",
       "      <td>2343497</td>\n",
       "      <td>chrome.exe</td>\n",
       "      <td>2020-10-09 22:50:41.24</td>\n",
       "      <td>W</td>\n",
       "      <td>234</td>\n",
       "      <td>0.58</td>\n",
       "      <td>MsMpEng.exe</td>\n",
       "    </tr>\n",
       "  </tbody>\n",
       "</table>\n",
       "</div>"
      ],
      "text/plain": [
       "     event_dt  event_duration_ms      event_name                 event_ts  \\\n",
       "0  2020-10-09             156317  DC_DISPLAY_OFF  2020-10-09 22:00:25.561   \n",
       "1  2020-10-09            5203164   DC_DISPLAY_ON  2020-10-09 22:03:01.879   \n",
       "2  2020-10-09            5203164   DC_DISPLAY_ON  2020-10-09 22:03:01.879   \n",
       "3  2020-10-09            4773068   DC_DISPLAY_ON  2020-10-09 20:14:48.094   \n",
       "4  2020-10-09            5203164   DC_DISPLAY_ON  2020-10-09 22:03:01.879   \n",
       "\n",
       "  frgnd_captioned frgnd_non_responsive frgnd_proc_dt  frgnd_proc_duration_ms  \\\n",
       "0             NaN                    f    2020-10-09                       0   \n",
       "1              c1                    f    2020-10-09                  802973   \n",
       "2              c1                    f    2020-10-09                 2343497   \n",
       "3             NaN                    f    2020-10-09                       0   \n",
       "4              c1                    f    2020-10-09                 2343497   \n",
       "\n",
       "  frgnd_proc_name            frgnd_proc_ts frgnd_window_mode  \\\n",
       "0             NaN  2020-10-09 22:00:25.561               NaN   \n",
       "1      chrome.exe  2020-10-09 22:28:43.737                 W   \n",
       "2      chrome.exe   2020-10-09 22:50:41.24                 W   \n",
       "3             NaN  2020-10-09 20:14:48.094               NaN   \n",
       "4      chrome.exe   2020-10-09 22:50:41.24                 W   \n",
       "\n",
       "   num_proc_samples  proc_cpu_utilization               proc_name  \n",
       "0                16                  0.12             DSATray.exe  \n",
       "1                80                  0.39  GameScannerService.exe  \n",
       "2               234                  0.85  GameScannerService.exe  \n",
       "3               478                  1.12     MoUsoCoreWorker.exe  \n",
       "4               234                  0.58             MsMpEng.exe  "
      ]
     },
     "execution_count": 41,
     "metadata": {},
     "output_type": "execute_result"
    }
   ],
   "source": [
    "frgnd_backgrnd_clean_stage2[frgnd_backgrnd_apps_poi].head()"
   ]
  },
  {
   "cell_type": "code",
   "execution_count": 42,
   "metadata": {},
   "outputs": [
    {
     "name": "stdout",
     "output_type": "stream",
     "text": [
      "[########################################] | 100% Completed | 27.3s\n"
     ]
    }
   ],
   "source": [
    "with ProgressBar():\n",
    "    frgnd_backgrnd_event_dt_value_count = frgnd_backgrnd_clean_stage2['event_dt'].value_counts().compute()"
   ]
  },
  {
   "cell_type": "code",
   "execution_count": 43,
   "metadata": {},
   "outputs": [
    {
     "data": {
      "text/plain": [
       "2020-10-22    70024\n",
       "2020-10-14    69961\n",
       "2020-10-15    69882\n",
       "2020-10-21    69882\n",
       "2020-10-19    69163\n",
       "              ...  \n",
       "2021-01-02    12338\n",
       "2021-01-01    11075\n",
       "2021-01-07     6497\n",
       "2020-10-09      881\n",
       "2021-01-08       10\n",
       "Name: event_dt, Length: 92, dtype: int64"
      ]
     },
     "execution_count": 43,
     "metadata": {},
     "output_type": "execute_result"
    }
   ],
   "source": [
    "frgnd_backgrnd_event_dt_value_count"
   ]
  },
  {
   "cell_type": "code",
   "execution_count": 44,
   "metadata": {
    "scrolled": true
   },
   "outputs": [
    {
     "data": {
      "text/html": [
       "<div>\n",
       "<style scoped>\n",
       "    .dataframe tbody tr th:only-of-type {\n",
       "        vertical-align: middle;\n",
       "    }\n",
       "\n",
       "    .dataframe tbody tr th {\n",
       "        vertical-align: top;\n",
       "    }\n",
       "\n",
       "    .dataframe thead th {\n",
       "        text-align: right;\n",
       "    }\n",
       "</style>\n",
       "<table border=\"1\" class=\"dataframe\">\n",
       "  <thead>\n",
       "    <tr style=\"text-align: right;\">\n",
       "      <th></th>\n",
       "      <th>load_ts</th>\n",
       "      <th>batch_id</th>\n",
       "      <th>audit_zip</th>\n",
       "      <th>audit_internal_path</th>\n",
       "      <th>guid</th>\n",
       "      <th>interval_start_utc</th>\n",
       "      <th>interval_end_utc</th>\n",
       "      <th>interval_local_start</th>\n",
       "      <th>interval_local_end</th>\n",
       "      <th>event_dt</th>\n",
       "      <th>...</th>\n",
       "      <th>num_proc_samples</th>\n",
       "      <th>frgnd_proc_name</th>\n",
       "      <th>frgnd_proc_dt</th>\n",
       "      <th>frgnd_proc_ts</th>\n",
       "      <th>frgnd_proc_duration_ms</th>\n",
       "      <th>frgnd_captioned</th>\n",
       "      <th>frgnd_window_mode</th>\n",
       "      <th>frgnd_non_responsive</th>\n",
       "      <th>proc_name</th>\n",
       "      <th>proc_cpu_utilization</th>\n",
       "    </tr>\n",
       "  </thead>\n",
       "  <tbody>\n",
       "    <tr>\n",
       "      <th>0</th>\n",
       "      <td>2020-10-12 03:07:56</td>\n",
       "      <td>20201011-200228</td>\n",
       "      <td>2020101115-i-040171543e1bfef37-ud0Qz3DtGaeMoEs...</td>\n",
       "      <td>V8_1_FRGND_BACKGRND_APPS20201010201454.V8</td>\n",
       "      <td>003019b8c0ae454eb228609aa48ac8d1</td>\n",
       "      <td>2020-10-10 00:14:10</td>\n",
       "      <td>2020-10-11 00:15:17</td>\n",
       "      <td>2020-10-09 20:14:10</td>\n",
       "      <td>2020-10-10 20:15:17</td>\n",
       "      <td>2020-10-09</td>\n",
       "      <td>...</td>\n",
       "      <td>16</td>\n",
       "      <td>NaN</td>\n",
       "      <td>2020-10-09</td>\n",
       "      <td>2020-10-09 22:00:25.561</td>\n",
       "      <td>0</td>\n",
       "      <td>NaN</td>\n",
       "      <td>NaN</td>\n",
       "      <td>f</td>\n",
       "      <td>DSATray.exe</td>\n",
       "      <td>0.12</td>\n",
       "    </tr>\n",
       "    <tr>\n",
       "      <th>1</th>\n",
       "      <td>2020-10-12 03:07:56</td>\n",
       "      <td>20201011-200228</td>\n",
       "      <td>2020101115-i-040171543e1bfef37-ud0Qz3DtGaeMoEs...</td>\n",
       "      <td>V8_1_FRGND_BACKGRND_APPS20201010201454.V8</td>\n",
       "      <td>003019b8c0ae454eb228609aa48ac8d1</td>\n",
       "      <td>2020-10-10 00:14:10</td>\n",
       "      <td>2020-10-11 00:15:17</td>\n",
       "      <td>2020-10-09 20:14:10</td>\n",
       "      <td>2020-10-10 20:15:17</td>\n",
       "      <td>2020-10-09</td>\n",
       "      <td>...</td>\n",
       "      <td>80</td>\n",
       "      <td>chrome.exe</td>\n",
       "      <td>2020-10-09</td>\n",
       "      <td>2020-10-09 22:28:43.737</td>\n",
       "      <td>802973</td>\n",
       "      <td>c1</td>\n",
       "      <td>W</td>\n",
       "      <td>f</td>\n",
       "      <td>GameScannerService.exe</td>\n",
       "      <td>0.39</td>\n",
       "    </tr>\n",
       "    <tr>\n",
       "      <th>2</th>\n",
       "      <td>2020-10-12 03:07:56</td>\n",
       "      <td>20201011-200228</td>\n",
       "      <td>2020101115-i-040171543e1bfef37-ud0Qz3DtGaeMoEs...</td>\n",
       "      <td>V8_1_FRGND_BACKGRND_APPS20201010201454.V8</td>\n",
       "      <td>003019b8c0ae454eb228609aa48ac8d1</td>\n",
       "      <td>2020-10-10 00:14:10</td>\n",
       "      <td>2020-10-11 00:15:17</td>\n",
       "      <td>2020-10-09 20:14:10</td>\n",
       "      <td>2020-10-10 20:15:17</td>\n",
       "      <td>2020-10-09</td>\n",
       "      <td>...</td>\n",
       "      <td>234</td>\n",
       "      <td>chrome.exe</td>\n",
       "      <td>2020-10-09</td>\n",
       "      <td>2020-10-09 22:50:41.24</td>\n",
       "      <td>2343497</td>\n",
       "      <td>c1</td>\n",
       "      <td>W</td>\n",
       "      <td>f</td>\n",
       "      <td>GameScannerService.exe</td>\n",
       "      <td>0.85</td>\n",
       "    </tr>\n",
       "    <tr>\n",
       "      <th>3</th>\n",
       "      <td>2020-10-12 03:07:56</td>\n",
       "      <td>20201011-200228</td>\n",
       "      <td>2020101115-i-040171543e1bfef37-ud0Qz3DtGaeMoEs...</td>\n",
       "      <td>V8_1_FRGND_BACKGRND_APPS20201010201454.V8</td>\n",
       "      <td>003019b8c0ae454eb228609aa48ac8d1</td>\n",
       "      <td>2020-10-10 00:14:10</td>\n",
       "      <td>2020-10-11 00:15:17</td>\n",
       "      <td>2020-10-09 20:14:10</td>\n",
       "      <td>2020-10-10 20:15:17</td>\n",
       "      <td>2020-10-09</td>\n",
       "      <td>...</td>\n",
       "      <td>478</td>\n",
       "      <td>NaN</td>\n",
       "      <td>2020-10-09</td>\n",
       "      <td>2020-10-09 20:14:48.094</td>\n",
       "      <td>0</td>\n",
       "      <td>NaN</td>\n",
       "      <td>NaN</td>\n",
       "      <td>f</td>\n",
       "      <td>MoUsoCoreWorker.exe</td>\n",
       "      <td>1.12</td>\n",
       "    </tr>\n",
       "    <tr>\n",
       "      <th>4</th>\n",
       "      <td>2020-10-12 03:07:56</td>\n",
       "      <td>20201011-200228</td>\n",
       "      <td>2020101115-i-040171543e1bfef37-ud0Qz3DtGaeMoEs...</td>\n",
       "      <td>V8_1_FRGND_BACKGRND_APPS20201010201454.V8</td>\n",
       "      <td>003019b8c0ae454eb228609aa48ac8d1</td>\n",
       "      <td>2020-10-10 00:14:10</td>\n",
       "      <td>2020-10-11 00:15:17</td>\n",
       "      <td>2020-10-09 20:14:10</td>\n",
       "      <td>2020-10-10 20:15:17</td>\n",
       "      <td>2020-10-09</td>\n",
       "      <td>...</td>\n",
       "      <td>234</td>\n",
       "      <td>chrome.exe</td>\n",
       "      <td>2020-10-09</td>\n",
       "      <td>2020-10-09 22:50:41.24</td>\n",
       "      <td>2343497</td>\n",
       "      <td>c1</td>\n",
       "      <td>W</td>\n",
       "      <td>f</td>\n",
       "      <td>MsMpEng.exe</td>\n",
       "      <td>0.58</td>\n",
       "    </tr>\n",
       "  </tbody>\n",
       "</table>\n",
       "<p>5 rows × 23 columns</p>\n",
       "</div>"
      ],
      "text/plain": [
       "               load_ts         batch_id  \\\n",
       "0  2020-10-12 03:07:56  20201011-200228   \n",
       "1  2020-10-12 03:07:56  20201011-200228   \n",
       "2  2020-10-12 03:07:56  20201011-200228   \n",
       "3  2020-10-12 03:07:56  20201011-200228   \n",
       "4  2020-10-12 03:07:56  20201011-200228   \n",
       "\n",
       "                                           audit_zip  \\\n",
       "0  2020101115-i-040171543e1bfef37-ud0Qz3DtGaeMoEs...   \n",
       "1  2020101115-i-040171543e1bfef37-ud0Qz3DtGaeMoEs...   \n",
       "2  2020101115-i-040171543e1bfef37-ud0Qz3DtGaeMoEs...   \n",
       "3  2020101115-i-040171543e1bfef37-ud0Qz3DtGaeMoEs...   \n",
       "4  2020101115-i-040171543e1bfef37-ud0Qz3DtGaeMoEs...   \n",
       "\n",
       "                         audit_internal_path  \\\n",
       "0  V8_1_FRGND_BACKGRND_APPS20201010201454.V8   \n",
       "1  V8_1_FRGND_BACKGRND_APPS20201010201454.V8   \n",
       "2  V8_1_FRGND_BACKGRND_APPS20201010201454.V8   \n",
       "3  V8_1_FRGND_BACKGRND_APPS20201010201454.V8   \n",
       "4  V8_1_FRGND_BACKGRND_APPS20201010201454.V8   \n",
       "\n",
       "                               guid   interval_start_utc     interval_end_utc  \\\n",
       "0  003019b8c0ae454eb228609aa48ac8d1  2020-10-10 00:14:10  2020-10-11 00:15:17   \n",
       "1  003019b8c0ae454eb228609aa48ac8d1  2020-10-10 00:14:10  2020-10-11 00:15:17   \n",
       "2  003019b8c0ae454eb228609aa48ac8d1  2020-10-10 00:14:10  2020-10-11 00:15:17   \n",
       "3  003019b8c0ae454eb228609aa48ac8d1  2020-10-10 00:14:10  2020-10-11 00:15:17   \n",
       "4  003019b8c0ae454eb228609aa48ac8d1  2020-10-10 00:14:10  2020-10-11 00:15:17   \n",
       "\n",
       "  interval_local_start   interval_local_end    event_dt  ... num_proc_samples  \\\n",
       "0  2020-10-09 20:14:10  2020-10-10 20:15:17  2020-10-09  ...               16   \n",
       "1  2020-10-09 20:14:10  2020-10-10 20:15:17  2020-10-09  ...               80   \n",
       "2  2020-10-09 20:14:10  2020-10-10 20:15:17  2020-10-09  ...              234   \n",
       "3  2020-10-09 20:14:10  2020-10-10 20:15:17  2020-10-09  ...              478   \n",
       "4  2020-10-09 20:14:10  2020-10-10 20:15:17  2020-10-09  ...              234   \n",
       "\n",
       "  frgnd_proc_name  frgnd_proc_dt            frgnd_proc_ts  \\\n",
       "0             NaN     2020-10-09  2020-10-09 22:00:25.561   \n",
       "1      chrome.exe     2020-10-09  2020-10-09 22:28:43.737   \n",
       "2      chrome.exe     2020-10-09   2020-10-09 22:50:41.24   \n",
       "3             NaN     2020-10-09  2020-10-09 20:14:48.094   \n",
       "4      chrome.exe     2020-10-09   2020-10-09 22:50:41.24   \n",
       "\n",
       "  frgnd_proc_duration_ms frgnd_captioned frgnd_window_mode  \\\n",
       "0                      0             NaN               NaN   \n",
       "1                 802973              c1                 W   \n",
       "2                2343497              c1                 W   \n",
       "3                      0             NaN               NaN   \n",
       "4                2343497              c1                 W   \n",
       "\n",
       "   frgnd_non_responsive               proc_name proc_cpu_utilization  \n",
       "0                     f             DSATray.exe                 0.12  \n",
       "1                     f  GameScannerService.exe                 0.39  \n",
       "2                     f  GameScannerService.exe                 0.85  \n",
       "3                     f     MoUsoCoreWorker.exe                 1.12  \n",
       "4                     f             MsMpEng.exe                 0.58  \n",
       "\n",
       "[5 rows x 23 columns]"
      ]
     },
     "execution_count": 44,
     "metadata": {},
     "output_type": "execute_result"
    }
   ],
   "source": [
    "frgnd_backgrnd_clean_stage2.head()"
   ]
  },
  {
   "cell_type": "code",
   "execution_count": 45,
   "metadata": {},
   "outputs": [
    {
     "name": "stdout",
     "output_type": "stream",
     "text": [
      "[########################################] | 100% Completed | 26.7s\n"
     ]
    }
   ],
   "source": [
    "with ProgressBar():\n",
    "    frgnd_backgrnd_guid_value_count = frgnd_backgrnd_clean_stage2['guid'].value_counts().compute()"
   ]
  },
  {
   "cell_type": "code",
   "execution_count": 46,
   "metadata": {},
   "outputs": [
    {
     "data": {
      "text/plain": [
       "0af707e7d51e4fb6812a596de9fef679    34419\n",
       "9c4e19608ece40f5b1db5b37d0091a2f    31844\n",
       "007729cb039e4e1aaa6c4a86c8c436e5    30205\n",
       "8189859393774a879a54ce8aaeebc181    28970\n",
       "c69315235fa14225b0cfbc6dbb999e4e    27946\n",
       "                                    ...  \n",
       "db970d2a18d94ceb9f1ef1da8b178577       10\n",
       "dcb2d536665a46daaa3d2151a546bf4d       10\n",
       "de941903d7474f33bf9243b40cad4766       10\n",
       "c172bd39a6884990a227743bd57e54de       10\n",
       "3c07024d3df040e29d72d2f25a86e96e        9\n",
       "Name: guid, Length: 2083, dtype: int64"
      ]
     },
     "execution_count": 46,
     "metadata": {},
     "output_type": "execute_result"
    }
   ],
   "source": [
    "frgnd_backgrnd_guid_value_count"
   ]
  },
  {
   "cell_type": "markdown",
   "metadata": {},
   "source": [
    "There are 2083 unique identitfier in frgnd_backgrnd"
   ]
  },
  {
   "cell_type": "code",
   "execution_count": 47,
   "metadata": {},
   "outputs": [
    {
     "data": {
      "text/html": [
       "<div>\n",
       "<style scoped>\n",
       "    .dataframe tbody tr th:only-of-type {\n",
       "        vertical-align: middle;\n",
       "    }\n",
       "\n",
       "    .dataframe tbody tr th {\n",
       "        vertical-align: top;\n",
       "    }\n",
       "\n",
       "    .dataframe thead th {\n",
       "        text-align: right;\n",
       "    }\n",
       "</style>\n",
       "<table border=\"1\" class=\"dataframe\">\n",
       "  <thead>\n",
       "    <tr style=\"text-align: right;\">\n",
       "      <th></th>\n",
       "      <th>load_ts</th>\n",
       "      <th>batch_id</th>\n",
       "      <th>audit_zip</th>\n",
       "      <th>audit_internal_path</th>\n",
       "      <th>guid</th>\n",
       "      <th>interval_start_utc</th>\n",
       "      <th>interval_end_utc</th>\n",
       "      <th>interval_local_start</th>\n",
       "      <th>interval_local_end</th>\n",
       "      <th>ts</th>\n",
       "      <th>dt</th>\n",
       "      <th>device</th>\n",
       "      <th>hw_name</th>\n",
       "      <th>name</th>\n",
       "      <th>duration</th>\n",
       "      <th>status</th>\n",
       "    </tr>\n",
       "  </thead>\n",
       "  <tbody>\n",
       "    <tr>\n",
       "      <th>0</th>\n",
       "      <td>2019-11-14 04:07:26</td>\n",
       "      <td>20191113-200224</td>\n",
       "      <td>2019111402-i-0728cf8ab79db9e58-fUgBvxtUfADzdPI...</td>\n",
       "      <td>V8DEVUSE4KNOWN_20191113183250.V8</td>\n",
       "      <td>0000e65f586a467ca242d6932782e01f</td>\n",
       "      <td>2019-11-11 00:21:39</td>\n",
       "      <td>2019-11-14 02:33:37</td>\n",
       "      <td>2019-11-10 16:21:39</td>\n",
       "      <td>2019-11-13 18:33:37</td>\n",
       "      <td>2019-11-10 20:58:51</td>\n",
       "      <td>2019-11-10</td>\n",
       "      <td>GUID_DEVINTERFACE_DISPLAY_ADAPTER</td>\n",
       "      <td>PCI\\VEN_8086&amp;DEV_0F31&amp;SUBSYS_14DD1043&amp;REV_0E</td>\n",
       "      <td>Intel(R) HD Graphics</td>\n",
       "      <td>16571</td>\n",
       "      <td>4</td>\n",
       "    </tr>\n",
       "    <tr>\n",
       "      <th>1</th>\n",
       "      <td>2019-11-14 04:07:26</td>\n",
       "      <td>20191113-200224</td>\n",
       "      <td>2019111402-i-0728cf8ab79db9e58-fUgBvxtUfADzdPI...</td>\n",
       "      <td>V8DEVUSE4KNOWN_20191113183250.V8</td>\n",
       "      <td>0000e65f586a467ca242d6932782e01f</td>\n",
       "      <td>2019-11-11 00:21:39</td>\n",
       "      <td>2019-11-14 02:33:37</td>\n",
       "      <td>2019-11-10 16:21:39</td>\n",
       "      <td>2019-11-13 18:33:37</td>\n",
       "      <td>2019-11-11 21:00:33</td>\n",
       "      <td>2019-11-11</td>\n",
       "      <td>GUID_DEVINTERFACE_KEYBOARD</td>\n",
       "      <td>ACPI\\VEN_ATK&amp;DEV_3001</td>\n",
       "      <td>PC/AT Enhanced PS/2 Keyboard (101/102-Key)</td>\n",
       "      <td>82117</td>\n",
       "      <td>4</td>\n",
       "    </tr>\n",
       "    <tr>\n",
       "      <th>2</th>\n",
       "      <td>2019-11-14 04:07:26</td>\n",
       "      <td>20191113-200224</td>\n",
       "      <td>2019111402-i-0728cf8ab79db9e58-fUgBvxtUfADzdPI...</td>\n",
       "      <td>V8DEVUSE4KNOWN_20191113183250.V8</td>\n",
       "      <td>0000e65f586a467ca242d6932782e01f</td>\n",
       "      <td>2019-11-11 00:21:39</td>\n",
       "      <td>2019-11-14 02:33:37</td>\n",
       "      <td>2019-11-10 16:21:39</td>\n",
       "      <td>2019-11-13 18:33:37</td>\n",
       "      <td>2019-11-11 21:00:33</td>\n",
       "      <td>2019-11-11</td>\n",
       "      <td>GUID_DEVINTERFACE_MOUSE</td>\n",
       "      <td>ACPI\\VEN_ETD&amp;DEV_0108</td>\n",
       "      <td>ASUS Touchpad</td>\n",
       "      <td>82117</td>\n",
       "      <td>4</td>\n",
       "    </tr>\n",
       "    <tr>\n",
       "      <th>3</th>\n",
       "      <td>2019-11-14 04:07:26</td>\n",
       "      <td>20191113-200224</td>\n",
       "      <td>2019111402-i-0728cf8ab79db9e58-fUgBvxtUfADzdPI...</td>\n",
       "      <td>V8DEVUSE4KNOWN_20191113183250.V8</td>\n",
       "      <td>0000e65f586a467ca242d6932782e01f</td>\n",
       "      <td>2019-11-11 00:21:39</td>\n",
       "      <td>2019-11-14 02:33:37</td>\n",
       "      <td>2019-11-10 16:21:39</td>\n",
       "      <td>2019-11-13 18:33:37</td>\n",
       "      <td>2019-11-11 21:00:33</td>\n",
       "      <td>2019-11-11</td>\n",
       "      <td>GUID_DEVICE_BATTERY</td>\n",
       "      <td>ACPI\\VEN_PNP&amp;DEV_0C0A</td>\n",
       "      <td>Microsoft ACPI-Compliant Control Method Battery</td>\n",
       "      <td>82117</td>\n",
       "      <td>4</td>\n",
       "    </tr>\n",
       "    <tr>\n",
       "      <th>4</th>\n",
       "      <td>2019-11-14 04:07:26</td>\n",
       "      <td>20191113-200224</td>\n",
       "      <td>2019111402-i-0728cf8ab79db9e58-fUgBvxtUfADzdPI...</td>\n",
       "      <td>V8DEVUSE4KNOWN_20191113183250.V8</td>\n",
       "      <td>0000e65f586a467ca242d6932782e01f</td>\n",
       "      <td>2019-11-11 00:21:39</td>\n",
       "      <td>2019-11-14 02:33:37</td>\n",
       "      <td>2019-11-10 16:21:39</td>\n",
       "      <td>2019-11-13 18:33:37</td>\n",
       "      <td>2019-11-11 21:00:33</td>\n",
       "      <td>2019-11-11</td>\n",
       "      <td>GUID_DEVINTERFACE_HID</td>\n",
       "      <td>HID\\VEN_ATK&amp;DEV_4001</td>\n",
       "      <td>HID-compliant wireless radio controls</td>\n",
       "      <td>82117</td>\n",
       "      <td>4</td>\n",
       "    </tr>\n",
       "  </tbody>\n",
       "</table>\n",
       "</div>"
      ],
      "text/plain": [
       "               load_ts         batch_id  \\\n",
       "0  2019-11-14 04:07:26  20191113-200224   \n",
       "1  2019-11-14 04:07:26  20191113-200224   \n",
       "2  2019-11-14 04:07:26  20191113-200224   \n",
       "3  2019-11-14 04:07:26  20191113-200224   \n",
       "4  2019-11-14 04:07:26  20191113-200224   \n",
       "\n",
       "                                           audit_zip  \\\n",
       "0  2019111402-i-0728cf8ab79db9e58-fUgBvxtUfADzdPI...   \n",
       "1  2019111402-i-0728cf8ab79db9e58-fUgBvxtUfADzdPI...   \n",
       "2  2019111402-i-0728cf8ab79db9e58-fUgBvxtUfADzdPI...   \n",
       "3  2019111402-i-0728cf8ab79db9e58-fUgBvxtUfADzdPI...   \n",
       "4  2019111402-i-0728cf8ab79db9e58-fUgBvxtUfADzdPI...   \n",
       "\n",
       "                audit_internal_path                              guid  \\\n",
       "0  V8DEVUSE4KNOWN_20191113183250.V8  0000e65f586a467ca242d6932782e01f   \n",
       "1  V8DEVUSE4KNOWN_20191113183250.V8  0000e65f586a467ca242d6932782e01f   \n",
       "2  V8DEVUSE4KNOWN_20191113183250.V8  0000e65f586a467ca242d6932782e01f   \n",
       "3  V8DEVUSE4KNOWN_20191113183250.V8  0000e65f586a467ca242d6932782e01f   \n",
       "4  V8DEVUSE4KNOWN_20191113183250.V8  0000e65f586a467ca242d6932782e01f   \n",
       "\n",
       "    interval_start_utc     interval_end_utc interval_local_start  \\\n",
       "0  2019-11-11 00:21:39  2019-11-14 02:33:37  2019-11-10 16:21:39   \n",
       "1  2019-11-11 00:21:39  2019-11-14 02:33:37  2019-11-10 16:21:39   \n",
       "2  2019-11-11 00:21:39  2019-11-14 02:33:37  2019-11-10 16:21:39   \n",
       "3  2019-11-11 00:21:39  2019-11-14 02:33:37  2019-11-10 16:21:39   \n",
       "4  2019-11-11 00:21:39  2019-11-14 02:33:37  2019-11-10 16:21:39   \n",
       "\n",
       "    interval_local_end                   ts          dt  \\\n",
       "0  2019-11-13 18:33:37  2019-11-10 20:58:51  2019-11-10   \n",
       "1  2019-11-13 18:33:37  2019-11-11 21:00:33  2019-11-11   \n",
       "2  2019-11-13 18:33:37  2019-11-11 21:00:33  2019-11-11   \n",
       "3  2019-11-13 18:33:37  2019-11-11 21:00:33  2019-11-11   \n",
       "4  2019-11-13 18:33:37  2019-11-11 21:00:33  2019-11-11   \n",
       "\n",
       "                              device  \\\n",
       "0  GUID_DEVINTERFACE_DISPLAY_ADAPTER   \n",
       "1         GUID_DEVINTERFACE_KEYBOARD   \n",
       "2            GUID_DEVINTERFACE_MOUSE   \n",
       "3                GUID_DEVICE_BATTERY   \n",
       "4              GUID_DEVINTERFACE_HID   \n",
       "\n",
       "                                        hw_name  \\\n",
       "0  PCI\\VEN_8086&DEV_0F31&SUBSYS_14DD1043&REV_0E   \n",
       "1                         ACPI\\VEN_ATK&DEV_3001   \n",
       "2                         ACPI\\VEN_ETD&DEV_0108   \n",
       "3                         ACPI\\VEN_PNP&DEV_0C0A   \n",
       "4                          HID\\VEN_ATK&DEV_4001   \n",
       "\n",
       "                                              name  duration  status  \n",
       "0                             Intel(R) HD Graphics     16571       4  \n",
       "1       PC/AT Enhanced PS/2 Keyboard (101/102-Key)     82117       4  \n",
       "2                                    ASUS Touchpad     82117       4  \n",
       "3  Microsoft ACPI-Compliant Control Method Battery     82117       4  \n",
       "4            HID-compliant wireless radio controls     82117       4  "
      ]
     },
     "execution_count": 47,
     "metadata": {},
     "output_type": "execute_result"
    }
   ],
   "source": [
    "devuse1_clean_stage2.head()"
   ]
  },
  {
   "cell_type": "code",
   "execution_count": 48,
   "metadata": {},
   "outputs": [
    {
     "name": "stdout",
     "output_type": "stream",
     "text": [
      "[######                                  ] | 16% Completed |  6min 40.5s"
     ]
    },
    {
     "name": "stderr",
     "output_type": "stream",
     "text": [
      "b'Skipping line 169363: expected 16 fields, saw 19\\nSkipping line 169364: expected 16 fields, saw 19\\nSkipping line 169434: expected 16 fields, saw 19\\nSkipping line 169435: expected 16 fields, saw 19\\nSkipping line 169504: expected 16 fields, saw 19\\nSkipping line 169505: expected 16 fields, saw 19\\nSkipping line 169579: expected 16 fields, saw 19\\nSkipping line 169580: expected 16 fields, saw 19\\nSkipping line 169630: expected 16 fields, saw 19\\nSkipping line 169631: expected 16 fields, saw 19\\nSkipping line 169701: expected 16 fields, saw 19\\nSkipping line 169702: expected 16 fields, saw 19\\nSkipping line 169771: expected 16 fields, saw 19\\nSkipping line 169772: expected 16 fields, saw 19\\nSkipping line 169845: expected 16 fields, saw 19\\nSkipping line 169846: expected 16 fields, saw 19\\nSkipping line 169914: expected 16 fields, saw 19\\nSkipping line 169916: expected 16 fields, saw 19\\nSkipping line 169965: expected 16 fields, saw 19\\nSkipping line 169966: expected 16 fields, saw 19\\nSkipping line 170036: expected 16 fields, saw 19\\nSkipping line 170037: expected 16 fields, saw 19\\nSkipping line 170100: expected 16 fields, saw 19\\nSkipping line 170101: expected 16 fields, saw 19\\nSkipping line 170172: expected 16 fields, saw 19\\nSkipping line 170173: expected 16 fields, saw 19\\nSkipping line 170242: expected 16 fields, saw 19\\nSkipping line 170243: expected 16 fields, saw 19\\nSkipping line 170312: expected 16 fields, saw 19\\nSkipping line 170313: expected 16 fields, saw 19\\nSkipping line 170392: expected 16 fields, saw 19\\nSkipping line 170394: expected 16 fields, saw 19\\nSkipping line 170450: expected 16 fields, saw 19\\nSkipping line 170452: expected 16 fields, saw 19\\nSkipping line 170498: expected 16 fields, saw 19\\nSkipping line 170499: expected 16 fields, saw 19\\n'\n"
     ]
    },
    {
     "name": "stdout",
     "output_type": "stream",
     "text": [
      "[###############                         ] | 39% Completed | 16min 16.9s"
     ]
    },
    {
     "name": "stderr",
     "output_type": "stream",
     "text": [
      "b'Skipping line 101812: expected 16 fields, saw 17\\n'\n"
     ]
    },
    {
     "name": "stdout",
     "output_type": "stream",
     "text": [
      "[##################################      ] | 85% Completed | 35min  9.5s"
     ]
    },
    {
     "name": "stderr",
     "output_type": "stream",
     "text": [
      "b'Skipping line 9497: expected 16 fields, saw 19\\nSkipping line 9498: expected 16 fields, saw 19\\nSkipping line 9562: expected 16 fields, saw 19\\nSkipping line 9563: expected 16 fields, saw 19\\nSkipping line 9626: expected 16 fields, saw 19\\nSkipping line 9627: expected 16 fields, saw 19\\nSkipping line 9668: expected 16 fields, saw 19\\nSkipping line 9669: expected 16 fields, saw 19\\nSkipping line 9734: expected 16 fields, saw 19\\nSkipping line 9735: expected 16 fields, saw 19\\nSkipping line 9799: expected 16 fields, saw 19\\nSkipping line 9800: expected 16 fields, saw 19\\nSkipping line 9862: expected 16 fields, saw 19\\nSkipping line 9863: expected 16 fields, saw 19\\nSkipping line 9926: expected 16 fields, saw 19\\nSkipping line 9927: expected 16 fields, saw 19\\nSkipping line 9967: expected 16 fields, saw 19\\nSkipping line 9968: expected 16 fields, saw 19\\nSkipping line 10031: expected 16 fields, saw 19\\nSkipping line 10032: expected 16 fields, saw 19\\nSkipping line 10094: expected 16 fields, saw 19\\nSkipping line 10095: expected 16 fields, saw 19\\nSkipping line 10157: expected 16 fields, saw 19\\nSkipping line 10158: expected 16 fields, saw 19\\nSkipping line 10223: expected 16 fields, saw 19\\nSkipping line 10224: expected 16 fields, saw 19\\nSkipping line 10286: expected 16 fields, saw 19\\nSkipping line 10287: expected 16 fields, saw 19\\nSkipping line 10349: expected 16 fields, saw 19\\nSkipping line 10350: expected 16 fields, saw 19\\nSkipping line 10412: expected 16 fields, saw 19\\nSkipping line 10413: expected 16 fields, saw 19\\nSkipping line 10476: expected 16 fields, saw 19\\nSkipping line 10477: expected 16 fields, saw 19\\nSkipping line 10519: expected 16 fields, saw 19\\nSkipping line 10520: expected 16 fields, saw 19\\nSkipping line 10584: expected 16 fields, saw 19\\nSkipping line 10585: expected 16 fields, saw 19\\nSkipping line 10648: expected 16 fields, saw 19\\nSkipping line 10649: expected 16 fields, saw 19\\nSkipping line 10711: expected 16 fields, saw 19\\nSkipping line 10712: expected 16 fields, saw 19\\nSkipping line 10778: expected 16 fields, saw 19\\nSkipping line 10780: expected 16 fields, saw 19\\nSkipping line 10822: expected 16 fields, saw 19\\nSkipping line 10823: expected 16 fields, saw 19\\nSkipping line 10886: expected 16 fields, saw 19\\nSkipping line 10887: expected 16 fields, saw 19\\nSkipping line 10950: expected 16 fields, saw 19\\nSkipping line 10951: expected 16 fields, saw 19\\nSkipping line 11014: expected 16 fields, saw 19\\nSkipping line 11015: expected 16 fields, saw 19\\nSkipping line 11080: expected 16 fields, saw 19\\nSkipping line 11081: expected 16 fields, saw 19\\nSkipping line 11144: expected 16 fields, saw 19\\nSkipping line 11145: expected 16 fields, saw 19\\nSkipping line 11209: expected 16 fields, saw 19\\nSkipping line 11210: expected 16 fields, saw 19\\nSkipping line 11268: expected 16 fields, saw 19\\nSkipping line 11269: expected 16 fields, saw 19\\n'\n"
     ]
    },
    {
     "name": "stdout",
     "output_type": "stream",
     "text": [
      "[##################################      ] | 85% Completed | 35min 16.0s"
     ]
    },
    {
     "name": "stderr",
     "output_type": "stream",
     "text": [
      "b'Skipping line 149688: expected 16 fields, saw 19\\nSkipping line 149689: expected 16 fields, saw 19\\nSkipping line 149754: expected 16 fields, saw 19\\nSkipping line 149755: expected 16 fields, saw 19\\nSkipping line 149797: expected 16 fields, saw 19\\nSkipping line 149798: expected 16 fields, saw 19\\nSkipping line 149839: expected 16 fields, saw 19\\nSkipping line 149840: expected 16 fields, saw 19\\nSkipping line 149903: expected 16 fields, saw 19\\nSkipping line 149904: expected 16 fields, saw 19\\nSkipping line 149966: expected 16 fields, saw 19\\nSkipping line 149967: expected 16 fields, saw 19\\nSkipping line 150030: expected 16 fields, saw 19\\nSkipping line 150031: expected 16 fields, saw 19\\nSkipping line 150093: expected 16 fields, saw 19\\nSkipping line 150094: expected 16 fields, saw 19\\nSkipping line 150157: expected 16 fields, saw 19\\nSkipping line 150158: expected 16 fields, saw 19\\nSkipping line 150199: expected 16 fields, saw 19\\nSkipping line 150200: expected 16 fields, saw 19\\nSkipping line 150263: expected 16 fields, saw 19\\nSkipping line 150264: expected 16 fields, saw 19\\nSkipping line 150343: expected 16 fields, saw 19\\nSkipping line 150345: expected 16 fields, saw 19\\nSkipping line 150388: expected 16 fields, saw 19\\nSkipping line 150389: expected 16 fields, saw 19\\nSkipping line 150473: expected 16 fields, saw 19\\nSkipping line 150474: expected 16 fields, saw 19\\nSkipping line 150516: expected 16 fields, saw 19\\nSkipping line 150517: expected 16 fields, saw 19\\nSkipping line 150584: expected 16 fields, saw 19\\nSkipping line 150586: expected 16 fields, saw 19\\nSkipping line 150628: expected 16 fields, saw 19\\nSkipping line 150629: expected 16 fields, saw 19\\nSkipping line 150696: expected 16 fields, saw 19\\nSkipping line 150698: expected 16 fields, saw 19\\nSkipping line 150740: expected 16 fields, saw 19\\nSkipping line 150741: expected 16 fields, saw 19\\nSkipping line 150820: expected 16 fields, saw 19\\nSkipping line 150822: expected 16 fields, saw 19\\nSkipping line 150868: expected 16 fields, saw 19\\nSkipping line 150869: expected 16 fields, saw 19\\nSkipping line 150934: expected 16 fields, saw 19\\nSkipping line 150936: expected 16 fields, saw 19\\nSkipping line 150978: expected 16 fields, saw 19\\nSkipping line 150979: expected 16 fields, saw 19\\nSkipping line 151041: expected 16 fields, saw 19\\nSkipping line 151042: expected 16 fields, saw 19\\nSkipping line 151104: expected 16 fields, saw 19\\nSkipping line 151105: expected 16 fields, saw 19\\nSkipping line 151168: expected 16 fields, saw 19\\nSkipping line 151169: expected 16 fields, saw 19\\nSkipping line 151232: expected 16 fields, saw 19\\nSkipping line 151233: expected 16 fields, saw 19\\nSkipping line 151274: expected 16 fields, saw 19\\nSkipping line 151275: expected 16 fields, saw 19\\nSkipping line 151342: expected 16 fields, saw 19\\nSkipping line 151344: expected 16 fields, saw 19\\nSkipping line 151386: expected 16 fields, saw 19\\nSkipping line 151387: expected 16 fields, saw 19\\nSkipping line 151450: expected 16 fields, saw 19\\nSkipping line 151451: expected 16 fields, saw 19\\nSkipping line 151514: expected 16 fields, saw 19\\nSkipping line 151515: expected 16 fields, saw 19\\nSkipping line 151600: expected 16 fields, saw 19\\nSkipping line 151601: expected 16 fields, saw 19\\nSkipping line 151643: expected 16 fields, saw 19\\nSkipping line 151644: expected 16 fields, saw 19\\nSkipping line 151701: expected 16 fields, saw 19\\nSkipping line 151703: expected 16 fields, saw 19\\nSkipping line 151759: expected 16 fields, saw 19\\nSkipping line 151760: expected 16 fields, saw 19\\nSkipping line 151806: expected 16 fields, saw 19\\nSkipping line 151808: expected 16 fields, saw 19\\nSkipping line 151854: expected 16 fields, saw 19\\nSkipping line 151856: expected 16 fields, saw 19\\nSkipping line 151899: expected 16 fields, saw 19\\nSkipping line 151900: expected 16 fields, saw 19\\n'\n"
     ]
    },
    {
     "name": "stdout",
     "output_type": "stream",
     "text": [
      "[########################################] | 100% Completed | 40min 49.4s\n"
     ]
    }
   ],
   "source": [
    "with ProgressBar():\n",
    "    device1_guid_value_count = devuse1_clean_stage2['guid'].value_counts().compute()"
   ]
  },
  {
   "cell_type": "code",
   "execution_count": 49,
   "metadata": {},
   "outputs": [
    {
     "data": {
      "text/plain": [
       "aac4a19cfed947489e7325756559a222    62531\n",
       "a16fc9dae5e54c388f47d2ba559b98ef    38673\n",
       "0161e19863ee4d59a4f6ed25420bd3b8    35927\n",
       "0194bebaef2c458daf29f64271e440db    34160\n",
       "00f8207451df4a65b7b711efbbd5dae4    34120\n",
       "                                    ...  \n",
       "043579b1347f4a159e89c2740a76a75f       59\n",
       "001a032567ef4f9eb7a9d9757a025ee1       49\n",
       "b6d98b7fc7f74c568a4d99001bbc41ea       48\n",
       "7682073d644348269f6ba3e3d63d241d       31\n",
       "7037a210aebc4bb7ac91294793dfcf74        1\n",
       "Name: guid, Length: 64843, dtype: int64"
      ]
     },
     "execution_count": 49,
     "metadata": {},
     "output_type": "execute_result"
    }
   ],
   "source": [
    "device1_guid_value_count"
   ]
  },
  {
   "cell_type": "code",
   "execution_count": 50,
   "metadata": {},
   "outputs": [
    {
     "name": "stdout",
     "output_type": "stream",
     "text": [
      "[######                                  ] | 16% Completed |  6min 38.5s"
     ]
    },
    {
     "name": "stderr",
     "output_type": "stream",
     "text": [
      "b'Skipping line 169363: expected 16 fields, saw 19\\nSkipping line 169364: expected 16 fields, saw 19\\nSkipping line 169434: expected 16 fields, saw 19\\nSkipping line 169435: expected 16 fields, saw 19\\nSkipping line 169504: expected 16 fields, saw 19\\nSkipping line 169505: expected 16 fields, saw 19\\nSkipping line 169579: expected 16 fields, saw 19\\nSkipping line 169580: expected 16 fields, saw 19\\nSkipping line 169630: expected 16 fields, saw 19\\nSkipping line 169631: expected 16 fields, saw 19\\nSkipping line 169701: expected 16 fields, saw 19\\nSkipping line 169702: expected 16 fields, saw 19\\nSkipping line 169771: expected 16 fields, saw 19\\nSkipping line 169772: expected 16 fields, saw 19\\nSkipping line 169845: expected 16 fields, saw 19\\nSkipping line 169846: expected 16 fields, saw 19\\nSkipping line 169914: expected 16 fields, saw 19\\nSkipping line 169916: expected 16 fields, saw 19\\nSkipping line 169965: expected 16 fields, saw 19\\nSkipping line 169966: expected 16 fields, saw 19\\nSkipping line 170036: expected 16 fields, saw 19\\nSkipping line 170037: expected 16 fields, saw 19\\nSkipping line 170100: expected 16 fields, saw 19\\nSkipping line 170101: expected 16 fields, saw 19\\nSkipping line 170172: expected 16 fields, saw 19\\nSkipping line 170173: expected 16 fields, saw 19\\nSkipping line 170242: expected 16 fields, saw 19\\nSkipping line 170243: expected 16 fields, saw 19\\nSkipping line 170312: expected 16 fields, saw 19\\nSkipping line 170313: expected 16 fields, saw 19\\nSkipping line 170392: expected 16 fields, saw 19\\nSkipping line 170394: expected 16 fields, saw 19\\nSkipping line 170450: expected 16 fields, saw 19\\nSkipping line 170452: expected 16 fields, saw 19\\nSkipping line 170498: expected 16 fields, saw 19\\nSkipping line 170499: expected 16 fields, saw 19\\n'\n"
     ]
    },
    {
     "name": "stdout",
     "output_type": "stream",
     "text": [
      "[###############                         ] | 39% Completed | 16min  8.6s"
     ]
    },
    {
     "name": "stderr",
     "output_type": "stream",
     "text": [
      "b'Skipping line 101812: expected 16 fields, saw 17\\n'\n"
     ]
    },
    {
     "name": "stdout",
     "output_type": "stream",
     "text": [
      "[##################################      ] | 85% Completed | 35min  6.0s"
     ]
    },
    {
     "name": "stderr",
     "output_type": "stream",
     "text": [
      "b'Skipping line 9497: expected 16 fields, saw 19\\nSkipping line 9498: expected 16 fields, saw 19\\nSkipping line 9562: expected 16 fields, saw 19\\nSkipping line 9563: expected 16 fields, saw 19\\nSkipping line 9626: expected 16 fields, saw 19\\nSkipping line 9627: expected 16 fields, saw 19\\nSkipping line 9668: expected 16 fields, saw 19\\nSkipping line 9669: expected 16 fields, saw 19\\nSkipping line 9734: expected 16 fields, saw 19\\nSkipping line 9735: expected 16 fields, saw 19\\nSkipping line 9799: expected 16 fields, saw 19\\nSkipping line 9800: expected 16 fields, saw 19\\nSkipping line 9862: expected 16 fields, saw 19\\nSkipping line 9863: expected 16 fields, saw 19\\nSkipping line 9926: expected 16 fields, saw 19\\nSkipping line 9927: expected 16 fields, saw 19\\nSkipping line 9967: expected 16 fields, saw 19\\nSkipping line 9968: expected 16 fields, saw 19\\nSkipping line 10031: expected 16 fields, saw 19\\nSkipping line 10032: expected 16 fields, saw 19\\nSkipping line 10094: expected 16 fields, saw 19\\nSkipping line 10095: expected 16 fields, saw 19\\nSkipping line 10157: expected 16 fields, saw 19\\nSkipping line 10158: expected 16 fields, saw 19\\nSkipping line 10223: expected 16 fields, saw 19\\nSkipping line 10224: expected 16 fields, saw 19\\nSkipping line 10286: expected 16 fields, saw 19\\nSkipping line 10287: expected 16 fields, saw 19\\nSkipping line 10349: expected 16 fields, saw 19\\nSkipping line 10350: expected 16 fields, saw 19\\nSkipping line 10412: expected 16 fields, saw 19\\nSkipping line 10413: expected 16 fields, saw 19\\nSkipping line 10476: expected 16 fields, saw 19\\nSkipping line 10477: expected 16 fields, saw 19\\nSkipping line 10519: expected 16 fields, saw 19\\nSkipping line 10520: expected 16 fields, saw 19\\nSkipping line 10584: expected 16 fields, saw 19\\nSkipping line 10585: expected 16 fields, saw 19\\nSkipping line 10648: expected 16 fields, saw 19\\nSkipping line 10649: expected 16 fields, saw 19\\nSkipping line 10711: expected 16 fields, saw 19\\nSkipping line 10712: expected 16 fields, saw 19\\nSkipping line 10778: expected 16 fields, saw 19\\nSkipping line 10780: expected 16 fields, saw 19\\nSkipping line 10822: expected 16 fields, saw 19\\nSkipping line 10823: expected 16 fields, saw 19\\nSkipping line 10886: expected 16 fields, saw 19\\nSkipping line 10887: expected 16 fields, saw 19\\nSkipping line 10950: expected 16 fields, saw 19\\nSkipping line 10951: expected 16 fields, saw 19\\nSkipping line 11014: expected 16 fields, saw 19\\nSkipping line 11015: expected 16 fields, saw 19\\nSkipping line 11080: expected 16 fields, saw 19\\nSkipping line 11081: expected 16 fields, saw 19\\nSkipping line 11144: expected 16 fields, saw 19\\nSkipping line 11145: expected 16 fields, saw 19\\nSkipping line 11209: expected 16 fields, saw 19\\nSkipping line 11210: expected 16 fields, saw 19\\nSkipping line 11268: expected 16 fields, saw 19\\nSkipping line 11269: expected 16 fields, saw 19\\n'\n"
     ]
    },
    {
     "name": "stdout",
     "output_type": "stream",
     "text": [
      "[##################################      ] | 85% Completed | 35min 10.3s"
     ]
    },
    {
     "name": "stderr",
     "output_type": "stream",
     "text": [
      "b'Skipping line 149688: expected 16 fields, saw 19\\nSkipping line 149689: expected 16 fields, saw 19\\nSkipping line 149754: expected 16 fields, saw 19\\nSkipping line 149755: expected 16 fields, saw 19\\nSkipping line 149797: expected 16 fields, saw 19\\nSkipping line 149798: expected 16 fields, saw 19\\nSkipping line 149839: expected 16 fields, saw 19\\nSkipping line 149840: expected 16 fields, saw 19\\nSkipping line 149903: expected 16 fields, saw 19\\nSkipping line 149904: expected 16 fields, saw 19\\nSkipping line 149966: expected 16 fields, saw 19\\nSkipping line 149967: expected 16 fields, saw 19\\nSkipping line 150030: expected 16 fields, saw 19\\nSkipping line 150031: expected 16 fields, saw 19\\nSkipping line 150093: expected 16 fields, saw 19\\nSkipping line 150094: expected 16 fields, saw 19\\nSkipping line 150157: expected 16 fields, saw 19\\nSkipping line 150158: expected 16 fields, saw 19\\nSkipping line 150199: expected 16 fields, saw 19\\nSkipping line 150200: expected 16 fields, saw 19\\nSkipping line 150263: expected 16 fields, saw 19\\nSkipping line 150264: expected 16 fields, saw 19\\nSkipping line 150343: expected 16 fields, saw 19\\nSkipping line 150345: expected 16 fields, saw 19\\nSkipping line 150388: expected 16 fields, saw 19\\nSkipping line 150389: expected 16 fields, saw 19\\nSkipping line 150473: expected 16 fields, saw 19\\nSkipping line 150474: expected 16 fields, saw 19\\nSkipping line 150516: expected 16 fields, saw 19\\nSkipping line 150517: expected 16 fields, saw 19\\nSkipping line 150584: expected 16 fields, saw 19\\nSkipping line 150586: expected 16 fields, saw 19\\nSkipping line 150628: expected 16 fields, saw 19\\nSkipping line 150629: expected 16 fields, saw 19\\nSkipping line 150696: expected 16 fields, saw 19\\nSkipping line 150698: expected 16 fields, saw 19\\nSkipping line 150740: expected 16 fields, saw 19\\nSkipping line 150741: expected 16 fields, saw 19\\nSkipping line 150820: expected 16 fields, saw 19\\nSkipping line 150822: expected 16 fields, saw 19\\nSkipping line 150868: expected 16 fields, saw 19\\nSkipping line 150869: expected 16 fields, saw 19\\nSkipping line 150934: expected 16 fields, saw 19\\nSkipping line 150936: expected 16 fields, saw 19\\nSkipping line 150978: expected 16 fields, saw 19\\nSkipping line 150979: expected 16 fields, saw 19\\nSkipping line 151041: expected 16 fields, saw 19\\nSkipping line 151042: expected 16 fields, saw 19\\nSkipping line 151104: expected 16 fields, saw 19\\nSkipping line 151105: expected 16 fields, saw 19\\nSkipping line 151168: expected 16 fields, saw 19\\nSkipping line 151169: expected 16 fields, saw 19\\nSkipping line 151232: expected 16 fields, saw 19\\nSkipping line 151233: expected 16 fields, saw 19\\nSkipping line 151274: expected 16 fields, saw 19\\nSkipping line 151275: expected 16 fields, saw 19\\nSkipping line 151342: expected 16 fields, saw 19\\nSkipping line 151344: expected 16 fields, saw 19\\nSkipping line 151386: expected 16 fields, saw 19\\nSkipping line 151387: expected 16 fields, saw 19\\nSkipping line 151450: expected 16 fields, saw 19\\nSkipping line 151451: expected 16 fields, saw 19\\nSkipping line 151514: expected 16 fields, saw 19\\nSkipping line 151515: expected 16 fields, saw 19\\nSkipping line 151600: expected 16 fields, saw 19\\nSkipping line 151601: expected 16 fields, saw 19\\nSkipping line 151643: expected 16 fields, saw 19\\nSkipping line 151644: expected 16 fields, saw 19\\nSkipping line 151701: expected 16 fields, saw 19\\nSkipping line 151703: expected 16 fields, saw 19\\nSkipping line 151759: expected 16 fields, saw 19\\nSkipping line 151760: expected 16 fields, saw 19\\nSkipping line 151806: expected 16 fields, saw 19\\nSkipping line 151808: expected 16 fields, saw 19\\nSkipping line 151854: expected 16 fields, saw 19\\nSkipping line 151856: expected 16 fields, saw 19\\nSkipping line 151899: expected 16 fields, saw 19\\nSkipping line 151900: expected 16 fields, saw 19\\n'\n"
     ]
    },
    {
     "name": "stdout",
     "output_type": "stream",
     "text": [
      "[########################################] | 100% Completed | 40min 47.2s\n"
     ]
    }
   ],
   "source": [
    "with ProgressBar():\n",
    "    device1_guid_value_count = devuse1_clean_stage2['guid'].value_counts().compute()"
   ]
  },
  {
   "cell_type": "code",
   "execution_count": null,
   "metadata": {},
   "outputs": [],
   "source": []
  },
  {
   "cell_type": "code",
   "execution_count": null,
   "metadata": {},
   "outputs": [],
   "source": []
  },
  {
   "cell_type": "code",
   "execution_count": null,
   "metadata": {},
   "outputs": [],
   "source": []
  }
 ],
 "metadata": {
  "kernelspec": {
   "display_name": "Python 3",
   "language": "python",
   "name": "python3"
  },
  "language_info": {
   "codemirror_mode": {
    "name": "ipython",
    "version": 3
   },
   "file_extension": ".py",
   "mimetype": "text/x-python",
   "name": "python",
   "nbconvert_exporter": "python",
   "pygments_lexer": "ipython3",
   "version": "3.7.6"
  }
 },
 "nbformat": 4,
 "nbformat_minor": 4
}
